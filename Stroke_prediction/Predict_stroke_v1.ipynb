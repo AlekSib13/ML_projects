{
 "cells": [
  {
   "cell_type": "markdown",
   "metadata": {},
   "source": [
    "<h3>Task:</h3>\n",
    "Identify patients with a stroke\n",
    "\n",
    "<h4>Expected Submission</h4>\n",
    "\n",
    "Solve the task primarily using Notebooks.\n",
    "The solution should contain two columns:\n",
    "<ol>\n",
    "<li>id</li>\n",
    "<li>Stroke</li>\n",
    "</ol>\n",
    "\n",
    "<h4>Evaluation</h4>\n",
    "\n",
    "Evaluation using F1-Score (given the output class imbalance)"
   ]
  },
  {
   "cell_type": "code",
   "execution_count": 38,
   "metadata": {},
   "outputs": [],
   "source": [
    "import numpy as np, pandas as pd, matplotlib as mpl,os, re"
   ]
  },
  {
   "cell_type": "code",
   "execution_count": 39,
   "metadata": {},
   "outputs": [],
   "source": [
    "from matplotlib import pyplot as plt"
   ]
  },
  {
   "cell_type": "code",
   "execution_count": 40,
   "metadata": {},
   "outputs": [],
   "source": [
    "%matplotlib inline"
   ]
  },
  {
   "cell_type": "code",
   "execution_count": 41,
   "metadata": {},
   "outputs": [],
   "source": [
    "class FilesReader:\n",
    "    def __init__(self,path):\n",
    "        if os.path.exists(path):\n",
    "            self.__path=path\n",
    "            self.__dict={}\n",
    "        else:\n",
    "            raise Exception('Path does not exist')\n",
    "        \n",
    "    def read(self):\n",
    "        list_of_files=os.listdir(self.__path)\n",
    "        for file in list_of_files:\n",
    "            self.__create_dict(file)\n",
    "        return self.__dict\n",
    "        \n",
    "    def __create_dict(self,file):\n",
    "        if re.findall('\\.csv',file):\n",
    "            file_read=pd.read_csv(os.path.join(self.__path,file))\n",
    "            key=re.findall('(\\w+)\\.',file)[0]\n",
    "            self.__dict[key]=file_read\n",
    "        elif re.findall('.xlsx',file):\n",
    "            file_read=pd.read_excel(os.path.join(self.__path,file))\n",
    "            key=re.findall('(\\w+)\\.',file)[0]\n",
    "            self.__dict[key]=file_read\n",
    "        else:\n",
    "            raise Exception('Not supported format')"
   ]
  },
  {
   "cell_type": "code",
   "execution_count": 42,
   "metadata": {},
   "outputs": [],
   "source": [
    "file_reader=FilesReader(r'/Users/aleksandrmalinin/Documents/MLprojects/ML tasks/Predict Stroke')"
   ]
  },
  {
   "cell_type": "code",
   "execution_count": 43,
   "metadata": {},
   "outputs": [],
   "source": [
    "dataset=file_reader.read()['data']"
   ]
  },
  {
   "cell_type": "markdown",
   "metadata": {},
   "source": [
    "<h4>Data Description</h4>\n",
    "\n",
    "<ol>\n",
    "<li>id: unique identifier</li>\n",
    "<li>gender: \"Male\", \"Female\" or \"Other\"</li>\n",
    "<li>age: age of the patient</li>\n",
    "<li>hypertension: 0 if the patient doesn't have hypertension, 1 if the patient has hypertension</li>\n",
    "<li>heart_disease: 0 if the patient doesn't have any heart diseases, 1 if the patient has a heart disease</li>\n",
    "<li>ever_married: \"No\" or \"Yes\"</li>\n",
    "<li>work_type: \"children\", \"Govt_jov\", \"Never_worked\", \"Private\" or \"Self-employed\"</li>\n",
    "<li>Residence_type: \"Rural\" or \"Urban\"</li>\n",
    "<li>avg_glucose_level: average glucose level in blood</li>\n",
    "<li>bmi: body mass index</li>\n",
    "<li>smoking_status: \"formerly smoked\", \"never smoked\", \"smokes\" or \"Unknown\"*</li>\n",
    "<li>stroke: 1 if the patient had a stroke or 0 if not</li>\n",
    "</ol>\n",
    "*Note: \"Unknown\" in smoking_status means that the information is unavailable for this patien"
   ]
  },
  {
   "cell_type": "code",
   "execution_count": 44,
   "metadata": {},
   "outputs": [
    {
     "data": {
      "text/html": [
       "<div>\n",
       "<style scoped>\n",
       "    .dataframe tbody tr th:only-of-type {\n",
       "        vertical-align: middle;\n",
       "    }\n",
       "\n",
       "    .dataframe tbody tr th {\n",
       "        vertical-align: top;\n",
       "    }\n",
       "\n",
       "    .dataframe thead th {\n",
       "        text-align: right;\n",
       "    }\n",
       "</style>\n",
       "<table border=\"1\" class=\"dataframe\">\n",
       "  <thead>\n",
       "    <tr style=\"text-align: right;\">\n",
       "      <th></th>\n",
       "      <th>id</th>\n",
       "      <th>gender</th>\n",
       "      <th>age</th>\n",
       "      <th>hypertension</th>\n",
       "      <th>heart_disease</th>\n",
       "      <th>ever_married</th>\n",
       "      <th>work_type</th>\n",
       "      <th>Residence_type</th>\n",
       "      <th>avg_glucose_level</th>\n",
       "      <th>bmi</th>\n",
       "      <th>smoking_status</th>\n",
       "      <th>stroke</th>\n",
       "    </tr>\n",
       "  </thead>\n",
       "  <tbody>\n",
       "    <tr>\n",
       "      <th>0</th>\n",
       "      <td>9046</td>\n",
       "      <td>Male</td>\n",
       "      <td>67.0</td>\n",
       "      <td>0</td>\n",
       "      <td>1</td>\n",
       "      <td>Yes</td>\n",
       "      <td>Private</td>\n",
       "      <td>Urban</td>\n",
       "      <td>228.69</td>\n",
       "      <td>36.6</td>\n",
       "      <td>formerly smoked</td>\n",
       "      <td>1</td>\n",
       "    </tr>\n",
       "    <tr>\n",
       "      <th>1</th>\n",
       "      <td>51676</td>\n",
       "      <td>Female</td>\n",
       "      <td>61.0</td>\n",
       "      <td>0</td>\n",
       "      <td>0</td>\n",
       "      <td>Yes</td>\n",
       "      <td>Self-employed</td>\n",
       "      <td>Rural</td>\n",
       "      <td>202.21</td>\n",
       "      <td>NaN</td>\n",
       "      <td>never smoked</td>\n",
       "      <td>1</td>\n",
       "    </tr>\n",
       "    <tr>\n",
       "      <th>2</th>\n",
       "      <td>31112</td>\n",
       "      <td>Male</td>\n",
       "      <td>80.0</td>\n",
       "      <td>0</td>\n",
       "      <td>1</td>\n",
       "      <td>Yes</td>\n",
       "      <td>Private</td>\n",
       "      <td>Rural</td>\n",
       "      <td>105.92</td>\n",
       "      <td>32.5</td>\n",
       "      <td>never smoked</td>\n",
       "      <td>1</td>\n",
       "    </tr>\n",
       "    <tr>\n",
       "      <th>3</th>\n",
       "      <td>60182</td>\n",
       "      <td>Female</td>\n",
       "      <td>49.0</td>\n",
       "      <td>0</td>\n",
       "      <td>0</td>\n",
       "      <td>Yes</td>\n",
       "      <td>Private</td>\n",
       "      <td>Urban</td>\n",
       "      <td>171.23</td>\n",
       "      <td>34.4</td>\n",
       "      <td>smokes</td>\n",
       "      <td>1</td>\n",
       "    </tr>\n",
       "    <tr>\n",
       "      <th>4</th>\n",
       "      <td>1665</td>\n",
       "      <td>Female</td>\n",
       "      <td>79.0</td>\n",
       "      <td>1</td>\n",
       "      <td>0</td>\n",
       "      <td>Yes</td>\n",
       "      <td>Self-employed</td>\n",
       "      <td>Rural</td>\n",
       "      <td>174.12</td>\n",
       "      <td>24.0</td>\n",
       "      <td>never smoked</td>\n",
       "      <td>1</td>\n",
       "    </tr>\n",
       "    <tr>\n",
       "      <th>5</th>\n",
       "      <td>56669</td>\n",
       "      <td>Male</td>\n",
       "      <td>81.0</td>\n",
       "      <td>0</td>\n",
       "      <td>0</td>\n",
       "      <td>Yes</td>\n",
       "      <td>Private</td>\n",
       "      <td>Urban</td>\n",
       "      <td>186.21</td>\n",
       "      <td>29.0</td>\n",
       "      <td>formerly smoked</td>\n",
       "      <td>1</td>\n",
       "    </tr>\n",
       "    <tr>\n",
       "      <th>6</th>\n",
       "      <td>53882</td>\n",
       "      <td>Male</td>\n",
       "      <td>74.0</td>\n",
       "      <td>1</td>\n",
       "      <td>1</td>\n",
       "      <td>Yes</td>\n",
       "      <td>Private</td>\n",
       "      <td>Rural</td>\n",
       "      <td>70.09</td>\n",
       "      <td>27.4</td>\n",
       "      <td>never smoked</td>\n",
       "      <td>1</td>\n",
       "    </tr>\n",
       "    <tr>\n",
       "      <th>7</th>\n",
       "      <td>10434</td>\n",
       "      <td>Female</td>\n",
       "      <td>69.0</td>\n",
       "      <td>0</td>\n",
       "      <td>0</td>\n",
       "      <td>No</td>\n",
       "      <td>Private</td>\n",
       "      <td>Urban</td>\n",
       "      <td>94.39</td>\n",
       "      <td>22.8</td>\n",
       "      <td>never smoked</td>\n",
       "      <td>1</td>\n",
       "    </tr>\n",
       "    <tr>\n",
       "      <th>8</th>\n",
       "      <td>27419</td>\n",
       "      <td>Female</td>\n",
       "      <td>59.0</td>\n",
       "      <td>0</td>\n",
       "      <td>0</td>\n",
       "      <td>Yes</td>\n",
       "      <td>Private</td>\n",
       "      <td>Rural</td>\n",
       "      <td>76.15</td>\n",
       "      <td>NaN</td>\n",
       "      <td>Unknown</td>\n",
       "      <td>1</td>\n",
       "    </tr>\n",
       "    <tr>\n",
       "      <th>9</th>\n",
       "      <td>60491</td>\n",
       "      <td>Female</td>\n",
       "      <td>78.0</td>\n",
       "      <td>0</td>\n",
       "      <td>0</td>\n",
       "      <td>Yes</td>\n",
       "      <td>Private</td>\n",
       "      <td>Urban</td>\n",
       "      <td>58.57</td>\n",
       "      <td>24.2</td>\n",
       "      <td>Unknown</td>\n",
       "      <td>1</td>\n",
       "    </tr>\n",
       "  </tbody>\n",
       "</table>\n",
       "</div>"
      ],
      "text/plain": [
       "      id  gender   age  hypertension  heart_disease ever_married  \\\n",
       "0   9046    Male  67.0             0              1          Yes   \n",
       "1  51676  Female  61.0             0              0          Yes   \n",
       "2  31112    Male  80.0             0              1          Yes   \n",
       "3  60182  Female  49.0             0              0          Yes   \n",
       "4   1665  Female  79.0             1              0          Yes   \n",
       "5  56669    Male  81.0             0              0          Yes   \n",
       "6  53882    Male  74.0             1              1          Yes   \n",
       "7  10434  Female  69.0             0              0           No   \n",
       "8  27419  Female  59.0             0              0          Yes   \n",
       "9  60491  Female  78.0             0              0          Yes   \n",
       "\n",
       "       work_type Residence_type  avg_glucose_level   bmi   smoking_status  \\\n",
       "0        Private          Urban             228.69  36.6  formerly smoked   \n",
       "1  Self-employed          Rural             202.21   NaN     never smoked   \n",
       "2        Private          Rural             105.92  32.5     never smoked   \n",
       "3        Private          Urban             171.23  34.4           smokes   \n",
       "4  Self-employed          Rural             174.12  24.0     never smoked   \n",
       "5        Private          Urban             186.21  29.0  formerly smoked   \n",
       "6        Private          Rural              70.09  27.4     never smoked   \n",
       "7        Private          Urban              94.39  22.8     never smoked   \n",
       "8        Private          Rural              76.15   NaN          Unknown   \n",
       "9        Private          Urban              58.57  24.2          Unknown   \n",
       "\n",
       "   stroke  \n",
       "0       1  \n",
       "1       1  \n",
       "2       1  \n",
       "3       1  \n",
       "4       1  \n",
       "5       1  \n",
       "6       1  \n",
       "7       1  \n",
       "8       1  \n",
       "9       1  "
      ]
     },
     "execution_count": 44,
     "metadata": {},
     "output_type": "execute_result"
    }
   ],
   "source": [
    "dataset.head(10)"
   ]
  },
  {
   "cell_type": "code",
   "execution_count": 45,
   "metadata": {},
   "outputs": [
    {
     "name": "stdout",
     "output_type": "stream",
     "text": [
      "<class 'pandas.core.frame.DataFrame'>\n",
      "RangeIndex: 5110 entries, 0 to 5109\n",
      "Data columns (total 12 columns):\n",
      " #   Column             Non-Null Count  Dtype  \n",
      "---  ------             --------------  -----  \n",
      " 0   id                 5110 non-null   int64  \n",
      " 1   gender             5110 non-null   object \n",
      " 2   age                5110 non-null   float64\n",
      " 3   hypertension       5110 non-null   int64  \n",
      " 4   heart_disease      5110 non-null   int64  \n",
      " 5   ever_married       5110 non-null   object \n",
      " 6   work_type          5110 non-null   object \n",
      " 7   Residence_type     5110 non-null   object \n",
      " 8   avg_glucose_level  5110 non-null   float64\n",
      " 9   bmi                4909 non-null   float64\n",
      " 10  smoking_status     5110 non-null   object \n",
      " 11  stroke             5110 non-null   int64  \n",
      "dtypes: float64(3), int64(4), object(5)\n",
      "memory usage: 479.2+ KB\n"
     ]
    }
   ],
   "source": [
    "#Not all instances contain bmi index. \n",
    "dataset.info()"
   ]
  },
  {
   "cell_type": "code",
   "execution_count": 46,
   "metadata": {},
   "outputs": [],
   "source": [
    "#All of the object(string in this case) features are categorial "
   ]
  },
  {
   "cell_type": "code",
   "execution_count": 47,
   "metadata": {},
   "outputs": [
    {
     "data": {
      "text/plain": [
       "Female    2994\n",
       "Male      2115\n",
       "Other        1\n",
       "Name: gender, dtype: int64"
      ]
     },
     "execution_count": 47,
     "metadata": {},
     "output_type": "execute_result"
    }
   ],
   "source": [
    "dataset['gender'].value_counts()"
   ]
  },
  {
   "cell_type": "code",
   "execution_count": 48,
   "metadata": {},
   "outputs": [
    {
     "data": {
      "text/plain": [
       "Yes    3353\n",
       "No     1757\n",
       "Name: ever_married, dtype: int64"
      ]
     },
     "execution_count": 48,
     "metadata": {},
     "output_type": "execute_result"
    }
   ],
   "source": [
    "dataset['ever_married'].value_counts()"
   ]
  },
  {
   "cell_type": "code",
   "execution_count": 49,
   "metadata": {},
   "outputs": [
    {
     "data": {
      "text/plain": [
       "Private          2925\n",
       "Self-employed     819\n",
       "children          687\n",
       "Govt_job          657\n",
       "Never_worked       22\n",
       "Name: work_type, dtype: int64"
      ]
     },
     "execution_count": 49,
     "metadata": {},
     "output_type": "execute_result"
    }
   ],
   "source": [
    "dataset['work_type'].value_counts()"
   ]
  },
  {
   "cell_type": "code",
   "execution_count": 50,
   "metadata": {},
   "outputs": [
    {
     "data": {
      "text/plain": [
       "Urban    2596\n",
       "Rural    2514\n",
       "Name: Residence_type, dtype: int64"
      ]
     },
     "execution_count": 50,
     "metadata": {},
     "output_type": "execute_result"
    }
   ],
   "source": [
    "dataset['Residence_type'].value_counts()"
   ]
  },
  {
   "cell_type": "code",
   "execution_count": 51,
   "metadata": {},
   "outputs": [
    {
     "data": {
      "text/plain": [
       "never smoked       1892\n",
       "Unknown            1544\n",
       "formerly smoked     885\n",
       "smokes              789\n",
       "Name: smoking_status, dtype: int64"
      ]
     },
     "execution_count": 51,
     "metadata": {},
     "output_type": "execute_result"
    }
   ],
   "source": [
    "dataset['smoking_status'].value_counts()"
   ]
  },
  {
   "cell_type": "code",
   "execution_count": 52,
   "metadata": {},
   "outputs": [
    {
     "data": {
      "text/html": [
       "<div>\n",
       "<style scoped>\n",
       "    .dataframe tbody tr th:only-of-type {\n",
       "        vertical-align: middle;\n",
       "    }\n",
       "\n",
       "    .dataframe tbody tr th {\n",
       "        vertical-align: top;\n",
       "    }\n",
       "\n",
       "    .dataframe thead th {\n",
       "        text-align: right;\n",
       "    }\n",
       "</style>\n",
       "<table border=\"1\" class=\"dataframe\">\n",
       "  <thead>\n",
       "    <tr style=\"text-align: right;\">\n",
       "      <th></th>\n",
       "      <th>id</th>\n",
       "      <th>age</th>\n",
       "      <th>hypertension</th>\n",
       "      <th>heart_disease</th>\n",
       "      <th>avg_glucose_level</th>\n",
       "      <th>bmi</th>\n",
       "      <th>stroke</th>\n",
       "    </tr>\n",
       "  </thead>\n",
       "  <tbody>\n",
       "    <tr>\n",
       "      <th>count</th>\n",
       "      <td>5110.000000</td>\n",
       "      <td>5110.000000</td>\n",
       "      <td>5110.000000</td>\n",
       "      <td>5110.000000</td>\n",
       "      <td>5110.000000</td>\n",
       "      <td>4909.000000</td>\n",
       "      <td>5110.000000</td>\n",
       "    </tr>\n",
       "    <tr>\n",
       "      <th>mean</th>\n",
       "      <td>36517.829354</td>\n",
       "      <td>43.226614</td>\n",
       "      <td>0.097456</td>\n",
       "      <td>0.054012</td>\n",
       "      <td>106.147677</td>\n",
       "      <td>28.893237</td>\n",
       "      <td>0.048728</td>\n",
       "    </tr>\n",
       "    <tr>\n",
       "      <th>std</th>\n",
       "      <td>21161.721625</td>\n",
       "      <td>22.612647</td>\n",
       "      <td>0.296607</td>\n",
       "      <td>0.226063</td>\n",
       "      <td>45.283560</td>\n",
       "      <td>7.854067</td>\n",
       "      <td>0.215320</td>\n",
       "    </tr>\n",
       "    <tr>\n",
       "      <th>min</th>\n",
       "      <td>67.000000</td>\n",
       "      <td>0.080000</td>\n",
       "      <td>0.000000</td>\n",
       "      <td>0.000000</td>\n",
       "      <td>55.120000</td>\n",
       "      <td>10.300000</td>\n",
       "      <td>0.000000</td>\n",
       "    </tr>\n",
       "    <tr>\n",
       "      <th>25%</th>\n",
       "      <td>17741.250000</td>\n",
       "      <td>25.000000</td>\n",
       "      <td>0.000000</td>\n",
       "      <td>0.000000</td>\n",
       "      <td>77.245000</td>\n",
       "      <td>23.500000</td>\n",
       "      <td>0.000000</td>\n",
       "    </tr>\n",
       "    <tr>\n",
       "      <th>50%</th>\n",
       "      <td>36932.000000</td>\n",
       "      <td>45.000000</td>\n",
       "      <td>0.000000</td>\n",
       "      <td>0.000000</td>\n",
       "      <td>91.885000</td>\n",
       "      <td>28.100000</td>\n",
       "      <td>0.000000</td>\n",
       "    </tr>\n",
       "    <tr>\n",
       "      <th>75%</th>\n",
       "      <td>54682.000000</td>\n",
       "      <td>61.000000</td>\n",
       "      <td>0.000000</td>\n",
       "      <td>0.000000</td>\n",
       "      <td>114.090000</td>\n",
       "      <td>33.100000</td>\n",
       "      <td>0.000000</td>\n",
       "    </tr>\n",
       "    <tr>\n",
       "      <th>max</th>\n",
       "      <td>72940.000000</td>\n",
       "      <td>82.000000</td>\n",
       "      <td>1.000000</td>\n",
       "      <td>1.000000</td>\n",
       "      <td>271.740000</td>\n",
       "      <td>97.600000</td>\n",
       "      <td>1.000000</td>\n",
       "    </tr>\n",
       "  </tbody>\n",
       "</table>\n",
       "</div>"
      ],
      "text/plain": [
       "                 id          age  hypertension  heart_disease  \\\n",
       "count   5110.000000  5110.000000   5110.000000    5110.000000   \n",
       "mean   36517.829354    43.226614      0.097456       0.054012   \n",
       "std    21161.721625    22.612647      0.296607       0.226063   \n",
       "min       67.000000     0.080000      0.000000       0.000000   \n",
       "25%    17741.250000    25.000000      0.000000       0.000000   \n",
       "50%    36932.000000    45.000000      0.000000       0.000000   \n",
       "75%    54682.000000    61.000000      0.000000       0.000000   \n",
       "max    72940.000000    82.000000      1.000000       1.000000   \n",
       "\n",
       "       avg_glucose_level          bmi       stroke  \n",
       "count        5110.000000  4909.000000  5110.000000  \n",
       "mean          106.147677    28.893237     0.048728  \n",
       "std            45.283560     7.854067     0.215320  \n",
       "min            55.120000    10.300000     0.000000  \n",
       "25%            77.245000    23.500000     0.000000  \n",
       "50%            91.885000    28.100000     0.000000  \n",
       "75%           114.090000    33.100000     0.000000  \n",
       "max           271.740000    97.600000     1.000000  "
      ]
     },
     "execution_count": 52,
     "metadata": {},
     "output_type": "execute_result"
    }
   ],
   "source": [
    "#There is at least one feature, which contain illogical values - age: 0,08. \n",
    "dataset.describe()"
   ]
  },
  {
   "cell_type": "code",
   "execution_count": 53,
   "metadata": {},
   "outputs": [
    {
     "data": {
      "image/png": "[encoded data removed]",
      "text/plain": [
       "<Figure size 1080x720 with 6 Axes>"
      ]
     },
     "metadata": {
      "needs_background": "light"
     },
     "output_type": "display_data"
    }
   ],
   "source": [
    "dataset.loc[:,dataset.columns!='id'].hist(figsize=(15,10))\n",
    "plt.show()"
   ]
  },
  {
   "cell_type": "code",
   "execution_count": 54,
   "metadata": {},
   "outputs": [],
   "source": [
    "#on the histograms above the following things might be observed:\n",
    "#-first of all the target label - stroke -> there are very few observation contining stroke - \"1\" value\n",
    "#-heart_disease,hyper_tension - the majority of the observation consider to contain \"0\" ('no') - value\n",
    "#-avg_glucose_level - is generally tail_heavy with low values\n",
    "#-bmi-the majority of values lay between 20 and 30+, which means that patients either have normal weight or overweight, but not underweight or obesed\n",
    "#Considering everything mentioned above it might be concluded that generally the sampling consists of healthy people.\n",
    "#Not considering yet the lifestyle of life conditions yet"
   ]
  },
  {
   "cell_type": "code",
   "execution_count": 55,
   "metadata": {},
   "outputs": [],
   "source": [
    "#Since there is a minor intances with stroke, it should be ensured that the test set will have the same proportion of instances with stroke equals to 1"
   ]
  },
  {
   "cell_type": "code",
   "execution_count": 56,
   "metadata": {},
   "outputs": [],
   "source": [
    "from sklearn.model_selection import StratifiedShuffleSplit"
   ]
  },
  {
   "cell_type": "code",
   "execution_count": 57,
   "metadata": {},
   "outputs": [],
   "source": [
    "split=StratifiedShuffleSplit(n_splits=1,test_size=0.25,random_state=42)\n",
    "for train_index,test_index in split.split(dataset,dataset['stroke']):\n",
    "    strat_train_set=dataset.loc[train_index]\n",
    "    strat_test_set=dataset.loc[test_index]"
   ]
  },
  {
   "cell_type": "code",
   "execution_count": 58,
   "metadata": {},
   "outputs": [],
   "source": [
    "patients_train_dataset=strat_train_set.copy()"
   ]
  },
  {
   "cell_type": "code",
   "execution_count": 59,
   "metadata": {},
   "outputs": [
    {
     "data": {
      "text/html": [
       "<div>\n",
       "<style scoped>\n",
       "    .dataframe tbody tr th:only-of-type {\n",
       "        vertical-align: middle;\n",
       "    }\n",
       "\n",
       "    .dataframe tbody tr th {\n",
       "        vertical-align: top;\n",
       "    }\n",
       "\n",
       "    .dataframe thead th {\n",
       "        text-align: right;\n",
       "    }\n",
       "</style>\n",
       "<table border=\"1\" class=\"dataframe\">\n",
       "  <thead>\n",
       "    <tr style=\"text-align: right;\">\n",
       "      <th></th>\n",
       "      <th>id</th>\n",
       "      <th>gender</th>\n",
       "      <th>age</th>\n",
       "      <th>hypertension</th>\n",
       "      <th>heart_disease</th>\n",
       "      <th>ever_married</th>\n",
       "      <th>work_type</th>\n",
       "      <th>Residence_type</th>\n",
       "      <th>avg_glucose_level</th>\n",
       "      <th>bmi</th>\n",
       "      <th>smoking_status</th>\n",
       "      <th>stroke</th>\n",
       "    </tr>\n",
       "  </thead>\n",
       "  <tbody>\n",
       "    <tr>\n",
       "      <th>837</th>\n",
       "      <td>33410</td>\n",
       "      <td>Female</td>\n",
       "      <td>39.0</td>\n",
       "      <td>0</td>\n",
       "      <td>0</td>\n",
       "      <td>No</td>\n",
       "      <td>Govt_job</td>\n",
       "      <td>Urban</td>\n",
       "      <td>79.44</td>\n",
       "      <td>22.7</td>\n",
       "      <td>never smoked</td>\n",
       "      <td>0</td>\n",
       "    </tr>\n",
       "    <tr>\n",
       "      <th>2899</th>\n",
       "      <td>33976</td>\n",
       "      <td>Male</td>\n",
       "      <td>55.0</td>\n",
       "      <td>0</td>\n",
       "      <td>0</td>\n",
       "      <td>Yes</td>\n",
       "      <td>Private</td>\n",
       "      <td>Urban</td>\n",
       "      <td>68.79</td>\n",
       "      <td>27.0</td>\n",
       "      <td>never smoked</td>\n",
       "      <td>0</td>\n",
       "    </tr>\n",
       "    <tr>\n",
       "      <th>708</th>\n",
       "      <td>49744</td>\n",
       "      <td>Female</td>\n",
       "      <td>59.0</td>\n",
       "      <td>0</td>\n",
       "      <td>0</td>\n",
       "      <td>Yes</td>\n",
       "      <td>Private</td>\n",
       "      <td>Urban</td>\n",
       "      <td>240.71</td>\n",
       "      <td>43.9</td>\n",
       "      <td>formerly smoked</td>\n",
       "      <td>0</td>\n",
       "    </tr>\n",
       "    <tr>\n",
       "      <th>3144</th>\n",
       "      <td>3442</td>\n",
       "      <td>Female</td>\n",
       "      <td>79.0</td>\n",
       "      <td>0</td>\n",
       "      <td>0</td>\n",
       "      <td>No</td>\n",
       "      <td>Self-employed</td>\n",
       "      <td>Rural</td>\n",
       "      <td>82.07</td>\n",
       "      <td>30.4</td>\n",
       "      <td>Unknown</td>\n",
       "      <td>0</td>\n",
       "    </tr>\n",
       "    <tr>\n",
       "      <th>4920</th>\n",
       "      <td>45404</td>\n",
       "      <td>Female</td>\n",
       "      <td>75.0</td>\n",
       "      <td>0</td>\n",
       "      <td>0</td>\n",
       "      <td>Yes</td>\n",
       "      <td>Private</td>\n",
       "      <td>Rural</td>\n",
       "      <td>68.38</td>\n",
       "      <td>33.8</td>\n",
       "      <td>Unknown</td>\n",
       "      <td>0</td>\n",
       "    </tr>\n",
       "    <tr>\n",
       "      <th>2834</th>\n",
       "      <td>49084</td>\n",
       "      <td>Male</td>\n",
       "      <td>20.0</td>\n",
       "      <td>0</td>\n",
       "      <td>0</td>\n",
       "      <td>No</td>\n",
       "      <td>Private</td>\n",
       "      <td>Urban</td>\n",
       "      <td>57.51</td>\n",
       "      <td>21.4</td>\n",
       "      <td>Unknown</td>\n",
       "      <td>0</td>\n",
       "    </tr>\n",
       "    <tr>\n",
       "      <th>4309</th>\n",
       "      <td>72491</td>\n",
       "      <td>Male</td>\n",
       "      <td>53.0</td>\n",
       "      <td>0</td>\n",
       "      <td>0</td>\n",
       "      <td>Yes</td>\n",
       "      <td>Private</td>\n",
       "      <td>Urban</td>\n",
       "      <td>74.66</td>\n",
       "      <td>29.2</td>\n",
       "      <td>smokes</td>\n",
       "      <td>0</td>\n",
       "    </tr>\n",
       "    <tr>\n",
       "      <th>3649</th>\n",
       "      <td>18866</td>\n",
       "      <td>Female</td>\n",
       "      <td>75.0</td>\n",
       "      <td>0</td>\n",
       "      <td>0</td>\n",
       "      <td>Yes</td>\n",
       "      <td>Self-employed</td>\n",
       "      <td>Urban</td>\n",
       "      <td>96.95</td>\n",
       "      <td>41.4</td>\n",
       "      <td>never smoked</td>\n",
       "      <td>0</td>\n",
       "    </tr>\n",
       "    <tr>\n",
       "      <th>909</th>\n",
       "      <td>5475</td>\n",
       "      <td>Female</td>\n",
       "      <td>39.0</td>\n",
       "      <td>0</td>\n",
       "      <td>0</td>\n",
       "      <td>Yes</td>\n",
       "      <td>Private</td>\n",
       "      <td>Rural</td>\n",
       "      <td>69.58</td>\n",
       "      <td>28.1</td>\n",
       "      <td>Unknown</td>\n",
       "      <td>0</td>\n",
       "    </tr>\n",
       "    <tr>\n",
       "      <th>1485</th>\n",
       "      <td>46284</td>\n",
       "      <td>Male</td>\n",
       "      <td>53.0</td>\n",
       "      <td>1</td>\n",
       "      <td>0</td>\n",
       "      <td>Yes</td>\n",
       "      <td>Self-employed</td>\n",
       "      <td>Urban</td>\n",
       "      <td>227.51</td>\n",
       "      <td>34.7</td>\n",
       "      <td>formerly smoked</td>\n",
       "      <td>0</td>\n",
       "    </tr>\n",
       "  </tbody>\n",
       "</table>\n",
       "</div>"
      ],
      "text/plain": [
       "         id  gender   age  hypertension  heart_disease ever_married  \\\n",
       "837   33410  Female  39.0             0              0           No   \n",
       "2899  33976    Male  55.0             0              0          Yes   \n",
       "708   49744  Female  59.0             0              0          Yes   \n",
       "3144   3442  Female  79.0             0              0           No   \n",
       "4920  45404  Female  75.0             0              0          Yes   \n",
       "2834  49084    Male  20.0             0              0           No   \n",
       "4309  72491    Male  53.0             0              0          Yes   \n",
       "3649  18866  Female  75.0             0              0          Yes   \n",
       "909    5475  Female  39.0             0              0          Yes   \n",
       "1485  46284    Male  53.0             1              0          Yes   \n",
       "\n",
       "          work_type Residence_type  avg_glucose_level   bmi   smoking_status  \\\n",
       "837        Govt_job          Urban              79.44  22.7     never smoked   \n",
       "2899        Private          Urban              68.79  27.0     never smoked   \n",
       "708         Private          Urban             240.71  43.9  formerly smoked   \n",
       "3144  Self-employed          Rural              82.07  30.4          Unknown   \n",
       "4920        Private          Rural              68.38  33.8          Unknown   \n",
       "2834        Private          Urban              57.51  21.4          Unknown   \n",
       "4309        Private          Urban              74.66  29.2           smokes   \n",
       "3649  Self-employed          Urban              96.95  41.4     never smoked   \n",
       "909         Private          Rural              69.58  28.1          Unknown   \n",
       "1485  Self-employed          Urban             227.51  34.7  formerly smoked   \n",
       "\n",
       "      stroke  \n",
       "837        0  \n",
       "2899       0  \n",
       "708        0  \n",
       "3144       0  \n",
       "4920       0  \n",
       "2834       0  \n",
       "4309       0  \n",
       "3649       0  \n",
       "909        0  \n",
       "1485       0  "
      ]
     },
     "execution_count": 59,
     "metadata": {},
     "output_type": "execute_result"
    }
   ],
   "source": [
    "patients_train_dataset.head(10)"
   ]
  },
  {
   "cell_type": "code",
   "execution_count": 60,
   "metadata": {},
   "outputs": [
    {
     "data": {
      "text/html": [
       "<div>\n",
       "<style scoped>\n",
       "    .dataframe tbody tr th:only-of-type {\n",
       "        vertical-align: middle;\n",
       "    }\n",
       "\n",
       "    .dataframe tbody tr th {\n",
       "        vertical-align: top;\n",
       "    }\n",
       "\n",
       "    .dataframe thead th {\n",
       "        text-align: right;\n",
       "    }\n",
       "</style>\n",
       "<table border=\"1\" class=\"dataframe\">\n",
       "  <thead>\n",
       "    <tr style=\"text-align: right;\">\n",
       "      <th></th>\n",
       "      <th>id</th>\n",
       "      <th>age</th>\n",
       "      <th>hypertension</th>\n",
       "      <th>heart_disease</th>\n",
       "      <th>avg_glucose_level</th>\n",
       "      <th>bmi</th>\n",
       "      <th>stroke</th>\n",
       "    </tr>\n",
       "  </thead>\n",
       "  <tbody>\n",
       "    <tr>\n",
       "      <th>id</th>\n",
       "      <td>1.000000</td>\n",
       "      <td>0.006167</td>\n",
       "      <td>0.005544</td>\n",
       "      <td>0.000918</td>\n",
       "      <td>0.007185</td>\n",
       "      <td>0.017157</td>\n",
       "      <td>0.011475</td>\n",
       "    </tr>\n",
       "    <tr>\n",
       "      <th>age</th>\n",
       "      <td>0.006167</td>\n",
       "      <td>1.000000</td>\n",
       "      <td>0.269858</td>\n",
       "      <td>0.267305</td>\n",
       "      <td>0.229352</td>\n",
       "      <td>0.333350</td>\n",
       "      <td>0.244167</td>\n",
       "    </tr>\n",
       "    <tr>\n",
       "      <th>hypertension</th>\n",
       "      <td>0.005544</td>\n",
       "      <td>0.269858</td>\n",
       "      <td>1.000000</td>\n",
       "      <td>0.103852</td>\n",
       "      <td>0.172154</td>\n",
       "      <td>0.164642</td>\n",
       "      <td>0.119044</td>\n",
       "    </tr>\n",
       "    <tr>\n",
       "      <th>heart_disease</th>\n",
       "      <td>0.000918</td>\n",
       "      <td>0.267305</td>\n",
       "      <td>0.103852</td>\n",
       "      <td>1.000000</td>\n",
       "      <td>0.163349</td>\n",
       "      <td>0.040965</td>\n",
       "      <td>0.135122</td>\n",
       "    </tr>\n",
       "    <tr>\n",
       "      <th>avg_glucose_level</th>\n",
       "      <td>0.007185</td>\n",
       "      <td>0.229352</td>\n",
       "      <td>0.172154</td>\n",
       "      <td>0.163349</td>\n",
       "      <td>1.000000</td>\n",
       "      <td>0.174542</td>\n",
       "      <td>0.130756</td>\n",
       "    </tr>\n",
       "    <tr>\n",
       "      <th>bmi</th>\n",
       "      <td>0.017157</td>\n",
       "      <td>0.333350</td>\n",
       "      <td>0.164642</td>\n",
       "      <td>0.040965</td>\n",
       "      <td>0.174542</td>\n",
       "      <td>1.000000</td>\n",
       "      <td>0.036798</td>\n",
       "    </tr>\n",
       "    <tr>\n",
       "      <th>stroke</th>\n",
       "      <td>0.011475</td>\n",
       "      <td>0.244167</td>\n",
       "      <td>0.119044</td>\n",
       "      <td>0.135122</td>\n",
       "      <td>0.130756</td>\n",
       "      <td>0.036798</td>\n",
       "      <td>1.000000</td>\n",
       "    </tr>\n",
       "  </tbody>\n",
       "</table>\n",
       "</div>"
      ],
      "text/plain": [
       "                         id       age  hypertension  heart_disease  \\\n",
       "id                 1.000000  0.006167      0.005544       0.000918   \n",
       "age                0.006167  1.000000      0.269858       0.267305   \n",
       "hypertension       0.005544  0.269858      1.000000       0.103852   \n",
       "heart_disease      0.000918  0.267305      0.103852       1.000000   \n",
       "avg_glucose_level  0.007185  0.229352      0.172154       0.163349   \n",
       "bmi                0.017157  0.333350      0.164642       0.040965   \n",
       "stroke             0.011475  0.244167      0.119044       0.135122   \n",
       "\n",
       "                   avg_glucose_level       bmi    stroke  \n",
       "id                          0.007185  0.017157  0.011475  \n",
       "age                         0.229352  0.333350  0.244167  \n",
       "hypertension                0.172154  0.164642  0.119044  \n",
       "heart_disease               0.163349  0.040965  0.135122  \n",
       "avg_glucose_level           1.000000  0.174542  0.130756  \n",
       "bmi                         0.174542  1.000000  0.036798  \n",
       "stroke                      0.130756  0.036798  1.000000  "
      ]
     },
     "execution_count": 60,
     "metadata": {},
     "output_type": "execute_result"
    }
   ],
   "source": [
    "patients_train_dataset.corr()\n",
    "#Age out of all factors correlates mostly with stroke\n",
    "#Other features except bmi have almost equal correlation, which is approximately twice lower than age"
   ]
  },
  {
   "cell_type": "code",
   "execution_count": 61,
   "metadata": {},
   "outputs": [
    {
     "data": {
      "image/png": "[encoded data removed]",
      "text/plain": [
       "<Figure size 720x576 with 4 Axes>"
      ]
     },
     "metadata": {
      "needs_background": "light"
     },
     "output_type": "display_data"
    }
   ],
   "source": [
    "from pandas.plotting import scatter_matrix\n",
    "scatter_matrix(patients_train_dataset[['stroke','age']],figsize=(10,8))\n",
    "plt.show()\n",
    "#it is noticable, that almost all of the observations, which possess stroke =1, include patients with the age close\n",
    "#to or over 40, except of a one, which look liker the mistake in data"
   ]
  },
  {
   "cell_type": "code",
   "execution_count": 62,
   "metadata": {},
   "outputs": [
    {
     "data": {
      "image/png": "[encoded data removed]",
      "text/plain": [
       "<Figure size 1296x432 with 2 Axes>"
      ]
     },
     "metadata": {
      "needs_background": "light"
     },
     "output_type": "display_data"
    }
   ],
   "source": [
    "#As it is noticable on the scatter-plots (and as we mentioned) above\n",
    "#stroke has low to very low correlation with other features but age\n",
    "fig,ax=plt.subplots(nrows=1,ncols=2)\n",
    "ax1,ax2=ax\n",
    "ax1.scatter(patients_train_dataset['avg_glucose_level'],patients_train_dataset['age'],\n",
    "          c=patients_train_dataset['stroke'])\n",
    "\n",
    "ax2.scatter(patients_train_dataset['bmi'],patients_train_dataset['age'],\n",
    "          c=patients_train_dataset['stroke'])\n",
    "\n",
    "\n",
    "fig.set_size_inches(18,6)\n",
    "plt.show()"
   ]
  },
  {
   "cell_type": "code",
   "execution_count": 63,
   "metadata": {},
   "outputs": [
    {
     "data": {
      "text/html": [
       "<div>\n",
       "<style scoped>\n",
       "    .dataframe tbody tr th:only-of-type {\n",
       "        vertical-align: middle;\n",
       "    }\n",
       "\n",
       "    .dataframe tbody tr th {\n",
       "        vertical-align: top;\n",
       "    }\n",
       "\n",
       "    .dataframe thead th {\n",
       "        text-align: right;\n",
       "    }\n",
       "</style>\n",
       "<table border=\"1\" class=\"dataframe\">\n",
       "  <thead>\n",
       "    <tr style=\"text-align: right;\">\n",
       "      <th></th>\n",
       "      <th>id</th>\n",
       "      <th>gender</th>\n",
       "      <th>age</th>\n",
       "      <th>hypertension</th>\n",
       "      <th>heart_disease</th>\n",
       "      <th>ever_married</th>\n",
       "      <th>work_type</th>\n",
       "      <th>Residence_type</th>\n",
       "      <th>avg_glucose_level</th>\n",
       "      <th>bmi</th>\n",
       "      <th>smoking_status</th>\n",
       "      <th>stroke</th>\n",
       "    </tr>\n",
       "  </thead>\n",
       "  <tbody>\n",
       "    <tr>\n",
       "      <th>105</th>\n",
       "      <td>2346</td>\n",
       "      <td>Male</td>\n",
       "      <td>58.0</td>\n",
       "      <td>0</td>\n",
       "      <td>0</td>\n",
       "      <td>Yes</td>\n",
       "      <td>Private</td>\n",
       "      <td>Urban</td>\n",
       "      <td>82.30</td>\n",
       "      <td>NaN</td>\n",
       "      <td>smokes</td>\n",
       "      <td>1</td>\n",
       "    </tr>\n",
       "    <tr>\n",
       "      <th>2828</th>\n",
       "      <td>42545</td>\n",
       "      <td>Male</td>\n",
       "      <td>29.0</td>\n",
       "      <td>1</td>\n",
       "      <td>0</td>\n",
       "      <td>Yes</td>\n",
       "      <td>Private</td>\n",
       "      <td>Urban</td>\n",
       "      <td>77.55</td>\n",
       "      <td>NaN</td>\n",
       "      <td>formerly smoked</td>\n",
       "      <td>0</td>\n",
       "    </tr>\n",
       "    <tr>\n",
       "      <th>1640</th>\n",
       "      <td>17752</td>\n",
       "      <td>Male</td>\n",
       "      <td>76.0</td>\n",
       "      <td>0</td>\n",
       "      <td>1</td>\n",
       "      <td>Yes</td>\n",
       "      <td>Private</td>\n",
       "      <td>Urban</td>\n",
       "      <td>79.05</td>\n",
       "      <td>NaN</td>\n",
       "      <td>Unknown</td>\n",
       "      <td>0</td>\n",
       "    </tr>\n",
       "    <tr>\n",
       "      <th>81</th>\n",
       "      <td>26015</td>\n",
       "      <td>Female</td>\n",
       "      <td>66.0</td>\n",
       "      <td>0</td>\n",
       "      <td>0</td>\n",
       "      <td>Yes</td>\n",
       "      <td>Self-employed</td>\n",
       "      <td>Urban</td>\n",
       "      <td>101.45</td>\n",
       "      <td>NaN</td>\n",
       "      <td>Unknown</td>\n",
       "      <td>1</td>\n",
       "    </tr>\n",
       "    <tr>\n",
       "      <th>171</th>\n",
       "      <td>60739</td>\n",
       "      <td>Female</td>\n",
       "      <td>79.0</td>\n",
       "      <td>1</td>\n",
       "      <td>1</td>\n",
       "      <td>No</td>\n",
       "      <td>Self-employed</td>\n",
       "      <td>Rural</td>\n",
       "      <td>60.94</td>\n",
       "      <td>NaN</td>\n",
       "      <td>never smoked</td>\n",
       "      <td>1</td>\n",
       "    </tr>\n",
       "    <tr>\n",
       "      <th>...</th>\n",
       "      <td>...</td>\n",
       "      <td>...</td>\n",
       "      <td>...</td>\n",
       "      <td>...</td>\n",
       "      <td>...</td>\n",
       "      <td>...</td>\n",
       "      <td>...</td>\n",
       "      <td>...</td>\n",
       "      <td>...</td>\n",
       "      <td>...</td>\n",
       "      <td>...</td>\n",
       "      <td>...</td>\n",
       "    </tr>\n",
       "    <tr>\n",
       "      <th>671</th>\n",
       "      <td>967</td>\n",
       "      <td>Male</td>\n",
       "      <td>61.0</td>\n",
       "      <td>0</td>\n",
       "      <td>1</td>\n",
       "      <td>Yes</td>\n",
       "      <td>Private</td>\n",
       "      <td>Urban</td>\n",
       "      <td>88.27</td>\n",
       "      <td>NaN</td>\n",
       "      <td>never smoked</td>\n",
       "      <td>0</td>\n",
       "    </tr>\n",
       "    <tr>\n",
       "      <th>1293</th>\n",
       "      <td>68003</td>\n",
       "      <td>Male</td>\n",
       "      <td>46.0</td>\n",
       "      <td>1</td>\n",
       "      <td>0</td>\n",
       "      <td>Yes</td>\n",
       "      <td>Private</td>\n",
       "      <td>Rural</td>\n",
       "      <td>73.72</td>\n",
       "      <td>NaN</td>\n",
       "      <td>smokes</td>\n",
       "      <td>0</td>\n",
       "    </tr>\n",
       "    <tr>\n",
       "      <th>1644</th>\n",
       "      <td>4538</td>\n",
       "      <td>Female</td>\n",
       "      <td>29.0</td>\n",
       "      <td>0</td>\n",
       "      <td>0</td>\n",
       "      <td>No</td>\n",
       "      <td>Private</td>\n",
       "      <td>Urban</td>\n",
       "      <td>81.43</td>\n",
       "      <td>NaN</td>\n",
       "      <td>formerly smoked</td>\n",
       "      <td>0</td>\n",
       "    </tr>\n",
       "    <tr>\n",
       "      <th>4286</th>\n",
       "      <td>23339</td>\n",
       "      <td>Male</td>\n",
       "      <td>3.0</td>\n",
       "      <td>0</td>\n",
       "      <td>0</td>\n",
       "      <td>No</td>\n",
       "      <td>children</td>\n",
       "      <td>Rural</td>\n",
       "      <td>194.75</td>\n",
       "      <td>NaN</td>\n",
       "      <td>Unknown</td>\n",
       "      <td>0</td>\n",
       "    </tr>\n",
       "    <tr>\n",
       "      <th>936</th>\n",
       "      <td>224</td>\n",
       "      <td>Female</td>\n",
       "      <td>23.0</td>\n",
       "      <td>0</td>\n",
       "      <td>0</td>\n",
       "      <td>No</td>\n",
       "      <td>Private</td>\n",
       "      <td>Urban</td>\n",
       "      <td>110.16</td>\n",
       "      <td>NaN</td>\n",
       "      <td>never smoked</td>\n",
       "      <td>0</td>\n",
       "    </tr>\n",
       "  </tbody>\n",
       "</table>\n",
       "<p>158 rows × 12 columns</p>\n",
       "</div>"
      ],
      "text/plain": [
       "         id  gender   age  hypertension  heart_disease ever_married  \\\n",
       "105    2346    Male  58.0             0              0          Yes   \n",
       "2828  42545    Male  29.0             1              0          Yes   \n",
       "1640  17752    Male  76.0             0              1          Yes   \n",
       "81    26015  Female  66.0             0              0          Yes   \n",
       "171   60739  Female  79.0             1              1           No   \n",
       "...     ...     ...   ...           ...            ...          ...   \n",
       "671     967    Male  61.0             0              1          Yes   \n",
       "1293  68003    Male  46.0             1              0          Yes   \n",
       "1644   4538  Female  29.0             0              0           No   \n",
       "4286  23339    Male   3.0             0              0           No   \n",
       "936     224  Female  23.0             0              0           No   \n",
       "\n",
       "          work_type Residence_type  avg_glucose_level  bmi   smoking_status  \\\n",
       "105         Private          Urban              82.30  NaN           smokes   \n",
       "2828        Private          Urban              77.55  NaN  formerly smoked   \n",
       "1640        Private          Urban              79.05  NaN          Unknown   \n",
       "81    Self-employed          Urban             101.45  NaN          Unknown   \n",
       "171   Self-employed          Rural              60.94  NaN     never smoked   \n",
       "...             ...            ...                ...  ...              ...   \n",
       "671         Private          Urban              88.27  NaN     never smoked   \n",
       "1293        Private          Rural              73.72  NaN           smokes   \n",
       "1644        Private          Urban              81.43  NaN  formerly smoked   \n",
       "4286       children          Rural             194.75  NaN          Unknown   \n",
       "936         Private          Urban             110.16  NaN     never smoked   \n",
       "\n",
       "      stroke  \n",
       "105        1  \n",
       "2828       0  \n",
       "1640       0  \n",
       "81         1  \n",
       "171        1  \n",
       "...      ...  \n",
       "671        0  \n",
       "1293       0  \n",
       "1644       0  \n",
       "4286       0  \n",
       "936        0  \n",
       "\n",
       "[158 rows x 12 columns]"
      ]
     },
     "execution_count": 63,
     "metadata": {},
     "output_type": "execute_result"
    }
   ],
   "source": [
    "#There were also data with bmi feature equals to NaN, it will be taken care of further\n",
    "patients_train_dataset.loc[patients_train_dataset['bmi'].isna(),:]"
   ]
  },
  {
   "cell_type": "markdown",
   "metadata": {},
   "source": [
    "<h5>Preparing the data</h5>"
   ]
  },
  {
   "cell_type": "code",
   "execution_count": 64,
   "metadata": {},
   "outputs": [],
   "source": [
    "class NaNDeal:\n",
    "    def __init__(self,strategy,test_dataset=False):\n",
    "        if strategy in ['drop_na_feature','drop_na_values','use_median','use_zero']:\n",
    "            self.strategy=strategy\n",
    "            self.train_list_of_medians=None\n",
    "        else:\n",
    "            raise Exception ('The selected strategy is not avalable, use one of the following: drop_na_feature,drop_na_values,use_median,use_zero')\n",
    "    \n",
    "    def fit_transform(self,column_list,X=False,test_dataset=False):\n",
    "        if not np.any(X) and not np.any(test_dataset):\n",
    "            raise Exception('Use train or test datasets')\n",
    "        elif np.any(X) and not np.any(test_dataset):\n",
    "            self.__initial_dataset=X.copy()\n",
    "        else:\n",
    "            self.__initial_dataset=test_dataset.copy()\n",
    "        \n",
    "        \n",
    "        if type(column_list) is not list:\n",
    "            column_list=[column_list]\n",
    "\n",
    "        if self.strategy=='drop_na_feature':\n",
    "            self.result_dataset=self.__initial_dataset.drop(column_list,axis=1)\n",
    "            return self.result_dataset\n",
    "        \n",
    "        elif self.strategy=='drop_na_values':\n",
    "            self.result_dataset=self.__initial_dataset.dropna(subset=column_list)\n",
    "            return self.result_dataset\n",
    "        \n",
    "        elif self.strategy=='use_median':\n",
    "            if not test_dataset:\n",
    "                list_of_medians=[]\n",
    "\n",
    "                for column in column_list:\n",
    "                    median=self.__initial_dataset[column].median()\n",
    "                    list_of_medians.append(median)\n",
    "                for element in enumerate(column_list):\n",
    "                    key=element[1]\n",
    "                    self.__initial_dataset[key].fillna(list_of_medians[element[0]],inplace=True)\n",
    "\n",
    "                self.train_list_of_medians=list_of_medians\n",
    "                self.result_dataset=self.__initial_dataset\n",
    "                return self.result_dataset\n",
    "            \n",
    "            else:\n",
    "                for element in enumerate(column_list):\n",
    "                    key=element[1]\n",
    "                    self.__initial_dataset[key].fillna(self.train_list_of_medians[element[0]],inplace=True)\n",
    "                    \n",
    "                    self.result_dataset=self.__initial_dataset\n",
    "                    return self.result_dataset\n",
    "                \n",
    "            \n",
    "        else:\n",
    "            for column in column_list:\n",
    "                self.__initial_dataset[column].fillna(0,inplace=True)\n",
    "            \n",
    "            self.result_dataset=self.__initial_dataset\n",
    "            return self.result_dataset"
   ]
  },
  {
   "cell_type": "code",
   "execution_count": 65,
   "metadata": {},
   "outputs": [],
   "source": [
    "# na_deal=NaNDeal(strategy='drop_na_feature')\n",
    "na_to_median=NaNDeal(strategy='use_median')"
   ]
  },
  {
   "cell_type": "code",
   "execution_count": 66,
   "metadata": {},
   "outputs": [],
   "source": [
    "patients_train_dataset_updated=na_to_median.fit_transform(column_list='bmi',X=patients_train_dataset)"
   ]
  },
  {
   "cell_type": "code",
   "execution_count": 67,
   "metadata": {},
   "outputs": [],
   "source": [
    "from sklearn.preprocessing import OrdinalEncoder"
   ]
  },
  {
   "cell_type": "code",
   "execution_count": 31,
   "metadata": {},
   "outputs": [],
   "source": [
    "# class Encoder(OrdinalEncoder):\n",
    "#     def __init__(self,strategy_):\n",
    "#         if strategy_ in ['ordinal','one-hot']:\n",
    "#             if strategy_ =='ordinal': \n",
    "#                 super().__init__()\n",
    "#             elif strategy_=='one-hot':\n",
    "#                 pass\n",
    "#             self.strategy_=strategy_\n",
    "#         else:\n",
    "#             raise Exception ('There is no such strategy_, please use: ordinal or one-hot')\n",
    "                \n",
    "    \n",
    "#     def __find_categories(self,dataset):\n",
    "#         category_features=[]\n",
    "#         for key,value in dataset.dtypes.items():\n",
    "#             if value=='object':\n",
    "#                 category_features.append(key)\n",
    "#         return category_features\n",
    "                \n",
    "      \n",
    "#     def __delete_columns(self,dataset,columns):\n",
    "#         return dataset.drop(columns,axis=1)\n",
    "    \n",
    "    \n",
    "#     def __merge_datasets(self,intermediate_dataset,encoded_dataset):\n",
    "#         intermediate_dataset.reset_index(drop=True,inplace=True)\n",
    "#         encoded_dataset.reset_index(drop=True,inplace=True)\n",
    "#         return pd.concat([intermediate_dataset,encoded_dataset],axis=1)\n",
    "        \n",
    "    \n",
    "#     def fit_transform(self,X):\n",
    "#         self.__initial_dataset=X.copy()\n",
    "#         self.__categories=self.__find_categories(self.__initial_dataset)\n",
    "        \n",
    "#         if self.strategy_=='ordinal': \n",
    "#             self.__ordinary_encoded_dataset=super().fit_transform(X[self.__categories])\n",
    "#             self.__ordinary_encoded_dataframe=pd.DataFrame(self.__ordinary_encoded_dataset,columns=self.__categories)\n",
    "            \n",
    "#         else:\n",
    "#             pass\n",
    "        \n",
    "#         self.__intermediate_dataset=self.__delete_columns(self.__initial_dataset,self.__categories)\n",
    "#         self.encoded_dataframe=self.__merge_datasets(self.__intermediate_dataset,self.__ordinary_encoded_dataframe)\n",
    "        \n",
    "#         return self.encoded_dataframe"
   ]
  },
  {
   "cell_type": "code",
   "execution_count": 68,
   "metadata": {},
   "outputs": [],
   "source": [
    "class Encoder(OrdinalEncoder):\n",
    "    def __init__(self,strategy_):\n",
    "        if strategy_ in ['ordinal','one-hot']:\n",
    "            if strategy_ =='ordinal': \n",
    "                super().__init__()\n",
    "            self.strategy_=strategy_\n",
    "        else:\n",
    "            raise Exception ('There is no such strategy_, please use: ordinal or one-hot')\n",
    "                \n",
    "    \n",
    "    def __find_categories(self,dataset):\n",
    "        category_features=[]\n",
    "        for key,value in dataset.dtypes.items():\n",
    "            if value=='object':\n",
    "                category_features.append(key)\n",
    "        return category_features\n",
    "                \n",
    "      \n",
    "    def __delete_columns(self,dataset,columns):\n",
    "        return dataset.drop(columns,axis=1)\n",
    "    \n",
    "    \n",
    "    def __merge_datasets(self,intermediate_dataset,encoded_dataset):\n",
    "        intermediate_dataset.reset_index(drop=True,inplace=True)\n",
    "        encoded_dataset.reset_index(drop=True,inplace=True)\n",
    "        return pd.concat([intermediate_dataset,encoded_dataset],axis=1)\n",
    "        \n",
    "    \n",
    "    def fit_transform(self,X):\n",
    "        self.__initial_dataset=X.copy()\n",
    "        self.__categories=self.__find_categories(self.__initial_dataset)\n",
    "        \n",
    "        if self.strategy_=='ordinal': \n",
    "            self.__ordinary_encoded_dataset=super().fit_transform(X[self.__categories])\n",
    "            self.__encoded_dataframe=pd.DataFrame(self.__ordinary_encoded_dataset,columns=self.__categories)\n",
    "            \n",
    "        else:\n",
    "            self.__encoded_dataframe=pd.get_dummies(self.__initial_dataset[self.__categories])\n",
    "        \n",
    "        self.__intermediate_dataset=self.__delete_columns(self.__initial_dataset,self.__categories)\n",
    "        self.encoded_dataframe=self.__merge_datasets(self.__intermediate_dataset,self.__encoded_dataframe)\n",
    "        \n",
    "        \n",
    "        \n",
    "        return self.encoded_dataframe"
   ]
  },
  {
   "cell_type": "code",
   "execution_count": 69,
   "metadata": {},
   "outputs": [],
   "source": [
    "encoder=Encoder(strategy_='one-hot')"
   ]
  },
  {
   "cell_type": "code",
   "execution_count": 70,
   "metadata": {},
   "outputs": [],
   "source": [
    "patients_train_dataset_encoded=encoder.fit_transform(patients_train_dataset_updated)"
   ]
  },
  {
   "cell_type": "code",
   "execution_count": 71,
   "metadata": {},
   "outputs": [],
   "source": [
    "class ColumnDropperSeparator:\n",
    "    def __init__(self,strategy_):\n",
    "        if strategy_ in ['drop','separate','drop-separate']:\n",
    "            self.strategy_=strategy_\n",
    "        else:\n",
    "            raise Exception ('There is no such strategy, choose from: drop for dropping cloumns, separate for creating the dataset with separated columns, drop-separte for both')\n",
    "    \n",
    "    \n",
    "    def drop_separate(self,X,columns_to_drop=False,columns_to_separate=False):\n",
    "        self.__initial_dataset=X.copy()\n",
    "        if self.strategy_=='drop':\n",
    "            self.dataset=self.__initial_dataset.drop(columns_to_drop,axis=1)\n",
    "            return self.dataset\n",
    "        elif self.strategy_=='separate':\n",
    "            self.dataset=self.__initial_dataset.drop(columns_to_separate,axis=1)\n",
    "            self.new_dataset=self.__initial_dataset[columns_to_separate]\n",
    "            return self.dataset,self.new_dataset\n",
    "        else:\n",
    "            list(map((lambda element:columns_to_drop.remove(element) if element in columns_to_drop else element),columns_to_separate))\n",
    "            self.__columns_to_drop=columns_to_drop+columns_to_separate\n",
    "            self.dataset=self.__initial_dataset.drop(self.__columns_to_drop,axis=1)\n",
    "            self.new_dataset=self.__initial_dataset[columns_to_separate]\n",
    "            return self.dataset,self.new_dataset"
   ]
  },
  {
   "cell_type": "code",
   "execution_count": 72,
   "metadata": {},
   "outputs": [],
   "source": [
    "class Scaler:\n",
    "    def __init__(self,strategy_):\n",
    "        if strategy_ in ['norm','stand']:\n",
    "            self.strategy_=strategy_\n",
    "        else:\n",
    "            raise Exception('There is no such strategy, please use - norm - for normalization, - stand - for standartization')\n",
    "            \n",
    "    def fit_transform(self,columns,train_dataset=False,test_dataset=False):\n",
    "        if not np.any(train_dataset) and not np.any(test_dataset):\n",
    "            raise Exception ('Indicate - train_dataset -  for train or - test_dataset - for test')\n",
    "        elif np.any(train_dataset) and np.any(test_dataset):\n",
    "            raise Exception ('Only one dataset should be indicated. Indicate - train_dataset -  for train or - test_dataset - for test')\n",
    "        elif np.any(train_dataset) and not np.any(test_dataset):\n",
    "            self.__train_dataset=train_dataset.copy()\n",
    "            if self.strategy_=='norm':\n",
    "                self.__scaled_dataframe=self.__normalization(self.__train_dataset,columns)\n",
    "            else:\n",
    "                self.__scaled_dataframe=self.__standartization(self.__train_dataset,columns)\n",
    "        else:\n",
    "            pass\n",
    "        \n",
    "    \n",
    "        self.__intermediate_dataset=self.__delete_columns(self.__train_dataset,columns)\n",
    "        self.scaled_dataframe=self.__merge_datasets(self.__intermediate_dataset,self.__scaled_dataframe)\n",
    "\n",
    "        return self.scaled_dataframe\n",
    "        \n",
    "        \n",
    "        \n",
    "    def __normalization(self,dataset,columns):\n",
    "        self.normalization_min_values=dataset[columns].min(axis=0)\n",
    "        self.normalization_max_values=dataset[columns].max(axis=0)\n",
    "        self.__normolized_dataset=(dataset[columns]-self.normalization_min_values)/(self.normalization_max_values-self.normalization_min_values)\n",
    "        return self.__normolized_dataset\n",
    "    \n",
    "    def __standartization(self,dataset,columns):\n",
    "        self.standartization_mean=dataset[columns].mean(axis=0)\n",
    "        self.standartization_std=dataset[columns].std(axis=0)\n",
    "        self.__standardized_dataset=(dataset[columns]-self.standartization_mean)/self.standartization_std\n",
    "        return self.__standardized_dataset\n",
    "        \n",
    "    \n",
    "    def __delete_columns(self,dataset,columns):\n",
    "        return dataset.drop(columns,axis=1)\n",
    "    \n",
    "    \n",
    "    def __merge_datasets(self,intermediate_dataset,scaled_dataset):\n",
    "        intermediate_dataset.reset_index(drop=True,inplace=True)\n",
    "        scaled_dataset.reset_index(drop=True,inplace=True)\n",
    "        return pd.concat([intermediate_dataset,scaled_dataset],axis=1)"
   ]
  },
  {
   "cell_type": "code",
   "execution_count": 73,
   "metadata": {},
   "outputs": [],
   "source": [
    "scaler_stand=Scaler(strategy_='stand')"
   ]
  },
  {
   "cell_type": "code",
   "execution_count": 75,
   "metadata": {},
   "outputs": [],
   "source": [
    "patients_train_dataset_encoded_stand=scaler_stand.fit_transform(columns=['age','bmi','avg_glucose_level'],train_dataset=patients_train_dataset_encoded)"
   ]
  },
  {
   "cell_type": "code",
   "execution_count": 130,
   "metadata": {},
   "outputs": [],
   "source": [
    "drop_separate=ColumnDropperSeparator(strategy_='drop')"
   ]
  },
  {
   "cell_type": "code",
   "execution_count": 131,
   "metadata": {},
   "outputs": [],
   "source": [
    "patients_train_dataset_encoded_stand_updated=drop_separate.drop_separate(patients_train_dataset_encoded_stand,columns_to_drop=['gender_Other'])"
   ]
  },
  {
   "cell_type": "code",
   "execution_count": 133,
   "metadata": {},
   "outputs": [],
   "source": [
    "another_split=StratifiedShuffleSplit(n_splits=3,test_size=0.2,random_state=42)\n",
    "for train_index,validation_index in another_split.split(patients_train_dataset_encoded_stand_updated,patients_train_dataset_encoded_stand_updated['stroke']):\n",
    "    train_strat=patients_train_dataset_encoded_stand_updated.loc[train_index]\n",
    "    validation_strat=patients_train_dataset_encoded_stand_updated.loc[validation_index]"
   ]
  },
  {
   "cell_type": "code",
   "execution_count": 152,
   "metadata": {},
   "outputs": [],
   "source": [
    "droper=ColumnDropperSeparator(strategy_='separate')"
   ]
  },
  {
   "cell_type": "code",
   "execution_count": 153,
   "metadata": {},
   "outputs": [],
   "source": [
    "train_set,train_labels=droper.drop_separate(train_strat,columns_to_separate=['stroke'])"
   ]
  },
  {
   "cell_type": "code",
   "execution_count": 155,
   "metadata": {},
   "outputs": [],
   "source": [
    "validation_set,validation_labels=droper.drop_separate(validation_strat,columns_to_separate=['stroke'])"
   ]
  },
  {
   "cell_type": "markdown",
   "metadata": {},
   "source": [
    "<h5>Selecting and training the model</h5>"
   ]
  },
  {
   "cell_type": "code",
   "execution_count": 158,
   "metadata": {},
   "outputs": [],
   "source": [
    "from sklearn.model_selection import cross_val_predict"
   ]
  },
  {
   "cell_type": "code",
   "execution_count": 186,
   "metadata": {},
   "outputs": [],
   "source": [
    "from sklearn.metrics import f1_score,precision_score,recall_score"
   ]
  },
  {
   "cell_type": "code",
   "execution_count": 160,
   "metadata": {},
   "outputs": [],
   "source": [
    "#1st model SGD Classifier"
   ]
  },
  {
   "cell_type": "code",
   "execution_count": 161,
   "metadata": {},
   "outputs": [],
   "source": [
    "from sklearn.linear_model import SGDClassifier"
   ]
  },
  {
   "cell_type": "code",
   "execution_count": 162,
   "metadata": {},
   "outputs": [],
   "source": [
    "sgd_classifier=SGDClassifier(random_state=42)"
   ]
  },
  {
   "cell_type": "code",
   "execution_count": 163,
   "metadata": {},
   "outputs": [
    {
     "data": {
      "text/plain": [
       "SGDClassifier(random_state=42)"
      ]
     },
     "execution_count": 163,
     "metadata": {},
     "output_type": "execute_result"
    }
   ],
   "source": [
    "sgd_classifier.fit(train_set,train_labels.values.flatten())"
   ]
  },
  {
   "cell_type": "code",
   "execution_count": 164,
   "metadata": {},
   "outputs": [],
   "source": [
    "validation_labels_predicted=sgd_classifier.predict(validation_set)"
   ]
  },
  {
   "cell_type": "code",
   "execution_count": 166,
   "metadata": {},
   "outputs": [
    {
     "data": {
      "text/plain": [
       "0.9282363074693499"
      ]
     },
     "execution_count": 166,
     "metadata": {},
     "output_type": "execute_result"
    }
   ],
   "source": [
    "f1_score(validation_labels,validation_labels_predicted,average='weighted')"
   ]
  },
  {
   "cell_type": "code",
   "execution_count": 167,
   "metadata": {},
   "outputs": [],
   "source": [
    "#2nd model RandomForest"
   ]
  },
  {
   "cell_type": "code",
   "execution_count": 173,
   "metadata": {},
   "outputs": [],
   "source": [
    "from sklearn.ensemble import RandomForestClassifier"
   ]
  },
  {
   "cell_type": "code",
   "execution_count": 174,
   "metadata": {},
   "outputs": [],
   "source": [
    "rf_classifier=RandomForestClassifier()"
   ]
  },
  {
   "cell_type": "code",
   "execution_count": 175,
   "metadata": {},
   "outputs": [
    {
     "data": {
      "text/plain": [
       "RandomForestClassifier()"
      ]
     },
     "execution_count": 175,
     "metadata": {},
     "output_type": "execute_result"
    }
   ],
   "source": [
    "rf_classifier.fit(train_set,train_labels.values.flatten())"
   ]
  },
  {
   "cell_type": "code",
   "execution_count": 176,
   "metadata": {},
   "outputs": [],
   "source": [
    "validation_labels_predicted_rf=rf_classifier.predict(validation_set)"
   ]
  },
  {
   "cell_type": "code",
   "execution_count": 185,
   "metadata": {},
   "outputs": [
    {
     "data": {
      "text/plain": [
       "0.9282363074693499"
      ]
     },
     "execution_count": 185,
     "metadata": {},
     "output_type": "execute_result"
    }
   ],
   "source": [
    "f1_score(validation_labels,validation_labels_predicted_rf,average='weighted')"
   ]
  },
  {
   "cell_type": "code",
   "execution_count": null,
   "metadata": {},
   "outputs": [],
   "source": [
    "#Since the initial dataset is skewed in terms of 0 values, the script above will be rearranged in order to work with skewed data"
   ]
  }
 ],
 "metadata": {
  "kernelspec": {
   "display_name": "Python 3",
   "language": "python",
   "name": "python3"
  },
  "language_info": {
   "codemirror_mode": {
    "name": "ipython",
    "version": 3
   },
   "file_extension": ".py",
   "mimetype": "text/x-python",
   "name": "python",
   "nbconvert_exporter": "python",
   "pygments_lexer": "ipython3",
   "version": "3.8.5"
  }
 },
 "nbformat": 4,
 "nbformat_minor": 4
}
