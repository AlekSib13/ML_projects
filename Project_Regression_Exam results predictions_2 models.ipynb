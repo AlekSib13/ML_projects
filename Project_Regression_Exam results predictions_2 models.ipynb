{
 "cells": [
  {
   "cell_type": "markdown",
   "metadata": {},
   "source": [
    "<h4>In this competition your task will be to predict the mean math exam result (from 0 to 100 points) for students of tutors in test.csv. <p><p>You will be given two datasets: train.csv (contains all features and the target) and test.csv (only features).</p></p></h4>\n",
    "<a href=https://www.kaggle.com/c/gb-regression-tutors-expected-math-exam-results title='Ссылка на задание по проекту'>Competition page</a><p><h4>Rules</h4></p><p>You can only use these imports:</p>\n",
    "<em><ol><li>import numpy as np</li>\n",
    "<li>import pandas as pd</li>\n",
    "<li>from sklearn.model_selection import train_test_split</li>\n",
    "<li>import matplotlib.pyplot as plt</li>\n",
    "<li>import seaborn as sns</li></ol></em>"
   ]
  },
  {
   "cell_type": "markdown",
   "metadata": {},
   "source": [
    "<h4>Preface</h4>\n",
    "<p>The notebook consistis of 2 phases:</p>\n",
    "<ol><li>Data analysis - the phase, which we use to take a closer look at the data and understand if any data manipulation actions are required</li>\n",
    "    <li>Model selection - the phase includes creation and model training as well as model prediction</li>\n",
    "</ol>\n",
    "    \n",
    "\n",
    "<p>Second phase contains 2 models, which were tested in order to find the best one.\n",
    "<ol>\n",
    "    <li>Gradient boosting</li>\n",
    "    <li>Random forest</li>\n",
    "    </ol>\n",
    "    </p>"
   ]
  },
  {
   "cell_type": "code",
   "execution_count": 1,
   "metadata": {},
   "outputs": [],
   "source": [
    "import numpy as np\n",
    "import pandas as pd\n",
    "from sklearn.model_selection import train_test_split\n",
    "import matplotlib.pyplot as plt\n",
    "import seaborn as sns"
   ]
  },
  {
   "cell_type": "markdown",
   "metadata": {},
   "source": [
    "<h4>1. Data analisys</h4>"
   ]
  },
  {
   "cell_type": "code",
   "execution_count": 2,
   "metadata": {},
   "outputs": [],
   "source": [
    "#Let's first import data and create datasets"
   ]
  },
  {
   "cell_type": "code",
   "execution_count": 3,
   "metadata": {},
   "outputs": [],
   "source": [
    "import os,zipfile,re"
   ]
  },
  {
   "cell_type": "code",
   "execution_count": 4,
   "metadata": {},
   "outputs": [],
   "source": [
    "#the function, which creates the dictionary of dataframes from csv files\n",
    "def create_dataframes(current_path):\n",
    "    files_for_dataframes=[]\n",
    "    files=os.listdir(current_path)\n",
    "    dict_of_dataframes={}\n",
    "    for file in files:\n",
    "         if re.findall('\\.csv',file):\n",
    "                files_for_dataframes.append(file)\n",
    "    for element in enumerate(files_for_dataframes,1):\n",
    "        key_=re.findall('(\\w*)\\.',element[1])[0]\n",
    "        dict_of_dataframes[key_]=pd.read_csv(os.path.join(current_path,element[1]))\n",
    "    return dict_of_dataframes"
   ]
  },
  {
   "cell_type": "code",
   "execution_count": 5,
   "metadata": {},
   "outputs": [],
   "source": [
    "#the function, which unzips in case there is anything to unzip, otherwise the function simply calls other function\n",
    "def un_zip(current_path):\n",
    "    if os.path.isdir(current_path):\n",
    "        list_to_unzip=os.listdir(current_path)\n",
    "        for element in list_to_unzip:\n",
    "            if re.findall('\\.zip',element):\n",
    "                full_path=os.path.join(current_path,element)\n",
    "                file=zipfile.ZipFile(full_path)\n",
    "                file.extractall(current_path)\n",
    "        return create_dataframes(current_path)"
   ]
  },
  {
   "cell_type": "code",
   "execution_count": 6,
   "metadata": {},
   "outputs": [],
   "source": [
    "#current_path - the path, where files or an archive is situated\n",
    "current_path=r'C:\\Users\\pc\\Desktop\\Geekbrains\\Курс. Алгоритмы анализа данных\\Курс от 27.11.20\\Курсовой проект\\Регрессия'"
   ]
  },
  {
   "cell_type": "code",
   "execution_count": 7,
   "metadata": {},
   "outputs": [],
   "source": [
    "dict_of_dataframes=un_zip(current_path)"
   ]
  },
  {
   "cell_type": "code",
   "execution_count": 8,
   "metadata": {},
   "outputs": [
    {
     "data": {
      "text/plain": [
       "{'sample_submission':          Id  mean_exam_points\n",
       " 0     10000              50.0\n",
       " 1     10001              50.0\n",
       " 2     10002              50.0\n",
       " 3     10003              50.0\n",
       " 4     10004              50.0\n",
       " ...     ...               ...\n",
       " 9995  19995              50.0\n",
       " 9996  19996              50.0\n",
       " 9997  19997              50.0\n",
       " 9998  19998              50.0\n",
       " 9999  19999              50.0\n",
       " \n",
       " [10000 rows x 2 columns],\n",
       " 'test':          Id   age  years_of_experience  lesson_price  qualification  physics  \\\n",
       " 0     10000  46.0                  3.0        1050.0            1.0      0.0   \n",
       " 1     10001  43.0                  3.0        1850.0            2.0      0.0   \n",
       " 2     10002  52.0                  1.0        1550.0            1.0      1.0   \n",
       " 3     10003  57.0                  6.0        2900.0            3.0      1.0   \n",
       " 4     10004  44.0                  4.0        3150.0            3.0      1.0   \n",
       " ...     ...   ...                  ...           ...            ...      ...   \n",
       " 9995  19995  42.0                  0.0        1500.0            1.0      0.0   \n",
       " 9996  19996  51.0                  2.0        2200.0            3.0      0.0   \n",
       " 9997  19997  33.0                  5.0        1100.0            1.0      0.0   \n",
       " 9998  19998  48.0                  0.0        1750.0            2.0      0.0   \n",
       " 9999  19999  49.0                  5.0        2000.0            2.0      1.0   \n",
       " \n",
       "       chemistry  biology  english  geography  history  \n",
       " 0           1.0      0.0      0.0        0.0      0.0  \n",
       " 1           0.0      0.0      0.0        0.0      0.0  \n",
       " 2           0.0      0.0      0.0        0.0      0.0  \n",
       " 3           0.0      1.0      0.0        0.0      0.0  \n",
       " 4           0.0      0.0      0.0        0.0      0.0  \n",
       " ...         ...      ...      ...        ...      ...  \n",
       " 9995        0.0      0.0      0.0        0.0      0.0  \n",
       " 9996        1.0      0.0      0.0        0.0      0.0  \n",
       " 9997        0.0      0.0      0.0        0.0      0.0  \n",
       " 9998        0.0      0.0      0.0        0.0      0.0  \n",
       " 9999        0.0      0.0      0.0        0.0      0.0  \n",
       " \n",
       " [10000 rows x 11 columns],\n",
       " 'train':         Id   age  years_of_experience  lesson_price  qualification  physics  \\\n",
       " 0        0  40.0                  0.0        1400.0            1.0      1.0   \n",
       " 1        1  48.0                  4.0        2850.0            3.0      1.0   \n",
       " 2        2  39.0                  0.0        1200.0            1.0      0.0   \n",
       " 3        3  46.0                  5.0        1400.0            1.0      0.0   \n",
       " 4        4  43.0                  1.0        1500.0            1.0      0.0   \n",
       " ...    ...   ...                  ...           ...            ...      ...   \n",
       " 9995  9995  44.0                  0.0        1700.0            2.0      1.0   \n",
       " 9996  9996  51.0                  0.0        1700.0            2.0      0.0   \n",
       " 9997  9997  34.0                  1.0        1250.0            1.0      1.0   \n",
       " 9998  9998  33.0                  3.0        1100.0            1.0      0.0   \n",
       " 9999  9999  35.0                  0.0        1450.0            1.0      0.0   \n",
       " \n",
       "       chemistry  biology  english  geography  history  mean_exam_points  \n",
       " 0           0.0      0.0      0.0        1.0      0.0                61  \n",
       " 1           0.0      0.0      0.0        0.0      0.0                76  \n",
       " 2           0.0      0.0      0.0        0.0      0.0                53  \n",
       " 3           0.0      0.0      0.0        0.0      0.0                54  \n",
       " 4           0.0      0.0      0.0        0.0      0.0                57  \n",
       " ...         ...      ...      ...        ...      ...               ...  \n",
       " 9995        1.0      0.0      0.0        0.0      0.0                83  \n",
       " 9996        0.0      0.0      0.0        0.0      0.0                58  \n",
       " 9997        0.0      0.0      0.0        0.0      0.0                62  \n",
       " 9998        0.0      0.0      0.0        0.0      0.0                56  \n",
       " 9999        0.0      0.0      0.0        0.0      0.0                52  \n",
       " \n",
       " [10000 rows x 12 columns]}"
      ]
     },
     "execution_count": 8,
     "metadata": {},
     "output_type": "execute_result"
    }
   ],
   "source": [
    "dict_of_dataframes"
   ]
  },
  {
   "cell_type": "code",
   "execution_count": 9,
   "metadata": {},
   "outputs": [],
   "source": [
    "train_data=dict_of_dataframes['train'].copy()"
   ]
  },
  {
   "cell_type": "code",
   "execution_count": 10,
   "metadata": {},
   "outputs": [],
   "source": [
    "test_data=dict_of_dataframes['test'].copy()"
   ]
  },
  {
   "cell_type": "code",
   "execution_count": 11,
   "metadata": {},
   "outputs": [],
   "source": [
    "sample_submission=dict_of_dataframes['sample_submission'].copy()"
   ]
  },
  {
   "cell_type": "markdown",
   "metadata": {},
   "source": [
    "1.2. Let's take a closer look at the data"
   ]
  },
  {
   "cell_type": "code",
   "execution_count": 12,
   "metadata": {},
   "outputs": [
    {
     "name": "stdout",
     "output_type": "stream",
     "text": [
      "<class 'pandas.core.frame.DataFrame'>\n",
      "RangeIndex: 10000 entries, 0 to 9999\n",
      "Data columns (total 12 columns):\n",
      "Id                     10000 non-null int64\n",
      "age                    10000 non-null float64\n",
      "years_of_experience    10000 non-null float64\n",
      "lesson_price           10000 non-null float64\n",
      "qualification          10000 non-null float64\n",
      "physics                10000 non-null float64\n",
      "chemistry              10000 non-null float64\n",
      "biology                10000 non-null float64\n",
      "english                10000 non-null float64\n",
      "geography              10000 non-null float64\n",
      "history                10000 non-null float64\n",
      "mean_exam_points       10000 non-null int64\n",
      "dtypes: float64(10), int64(2)\n",
      "memory usage: 937.6 KB\n"
     ]
    }
   ],
   "source": [
    "train_data.info()\n",
    "#well, there are no null-value features and all of the presented features except of the 'Id' has the same data type"
   ]
  },
  {
   "cell_type": "code",
   "execution_count": 13,
   "metadata": {},
   "outputs": [
    {
     "data": {
      "text/html": [
       "<div>\n",
       "<style scoped>\n",
       "    .dataframe tbody tr th:only-of-type {\n",
       "        vertical-align: middle;\n",
       "    }\n",
       "\n",
       "    .dataframe tbody tr th {\n",
       "        vertical-align: top;\n",
       "    }\n",
       "\n",
       "    .dataframe thead th {\n",
       "        text-align: right;\n",
       "    }\n",
       "</style>\n",
       "<table border=\"1\" class=\"dataframe\">\n",
       "  <thead>\n",
       "    <tr style=\"text-align: right;\">\n",
       "      <th></th>\n",
       "      <th>Id</th>\n",
       "      <th>age</th>\n",
       "      <th>years_of_experience</th>\n",
       "      <th>lesson_price</th>\n",
       "      <th>qualification</th>\n",
       "      <th>physics</th>\n",
       "      <th>chemistry</th>\n",
       "      <th>biology</th>\n",
       "      <th>english</th>\n",
       "      <th>geography</th>\n",
       "      <th>history</th>\n",
       "      <th>mean_exam_points</th>\n",
       "    </tr>\n",
       "  </thead>\n",
       "  <tbody>\n",
       "    <tr>\n",
       "      <td>count</td>\n",
       "      <td>10000.00000</td>\n",
       "      <td>10000.000000</td>\n",
       "      <td>10000.000000</td>\n",
       "      <td>10000.000000</td>\n",
       "      <td>10000.000000</td>\n",
       "      <td>10000.000000</td>\n",
       "      <td>10000.000000</td>\n",
       "      <td>10000.000000</td>\n",
       "      <td>10000.000000</td>\n",
       "      <td>10000.000000</td>\n",
       "      <td>10000.000000</td>\n",
       "      <td>10000.000000</td>\n",
       "    </tr>\n",
       "    <tr>\n",
       "      <td>mean</td>\n",
       "      <td>4999.50000</td>\n",
       "      <td>45.878000</td>\n",
       "      <td>1.986800</td>\n",
       "      <td>1699.105000</td>\n",
       "      <td>1.719500</td>\n",
       "      <td>0.375000</td>\n",
       "      <td>0.132900</td>\n",
       "      <td>0.109600</td>\n",
       "      <td>0.053700</td>\n",
       "      <td>0.032100</td>\n",
       "      <td>0.019400</td>\n",
       "      <td>63.737300</td>\n",
       "    </tr>\n",
       "    <tr>\n",
       "      <td>std</td>\n",
       "      <td>2886.89568</td>\n",
       "      <td>8.043929</td>\n",
       "      <td>1.772213</td>\n",
       "      <td>524.886654</td>\n",
       "      <td>0.792264</td>\n",
       "      <td>0.484147</td>\n",
       "      <td>0.339484</td>\n",
       "      <td>0.312406</td>\n",
       "      <td>0.225436</td>\n",
       "      <td>0.176274</td>\n",
       "      <td>0.137933</td>\n",
       "      <td>14.705574</td>\n",
       "    </tr>\n",
       "    <tr>\n",
       "      <td>min</td>\n",
       "      <td>0.00000</td>\n",
       "      <td>23.000000</td>\n",
       "      <td>0.000000</td>\n",
       "      <td>200.000000</td>\n",
       "      <td>1.000000</td>\n",
       "      <td>0.000000</td>\n",
       "      <td>0.000000</td>\n",
       "      <td>0.000000</td>\n",
       "      <td>0.000000</td>\n",
       "      <td>0.000000</td>\n",
       "      <td>0.000000</td>\n",
       "      <td>32.000000</td>\n",
       "    </tr>\n",
       "    <tr>\n",
       "      <td>25%</td>\n",
       "      <td>2499.75000</td>\n",
       "      <td>40.000000</td>\n",
       "      <td>0.000000</td>\n",
       "      <td>1300.000000</td>\n",
       "      <td>1.000000</td>\n",
       "      <td>0.000000</td>\n",
       "      <td>0.000000</td>\n",
       "      <td>0.000000</td>\n",
       "      <td>0.000000</td>\n",
       "      <td>0.000000</td>\n",
       "      <td>0.000000</td>\n",
       "      <td>53.000000</td>\n",
       "    </tr>\n",
       "    <tr>\n",
       "      <td>50%</td>\n",
       "      <td>4999.50000</td>\n",
       "      <td>46.000000</td>\n",
       "      <td>2.000000</td>\n",
       "      <td>1500.000000</td>\n",
       "      <td>2.000000</td>\n",
       "      <td>0.000000</td>\n",
       "      <td>0.000000</td>\n",
       "      <td>0.000000</td>\n",
       "      <td>0.000000</td>\n",
       "      <td>0.000000</td>\n",
       "      <td>0.000000</td>\n",
       "      <td>63.000000</td>\n",
       "    </tr>\n",
       "    <tr>\n",
       "      <td>75%</td>\n",
       "      <td>7499.25000</td>\n",
       "      <td>51.000000</td>\n",
       "      <td>3.000000</td>\n",
       "      <td>2150.000000</td>\n",
       "      <td>2.000000</td>\n",
       "      <td>1.000000</td>\n",
       "      <td>0.000000</td>\n",
       "      <td>0.000000</td>\n",
       "      <td>0.000000</td>\n",
       "      <td>0.000000</td>\n",
       "      <td>0.000000</td>\n",
       "      <td>74.000000</td>\n",
       "    </tr>\n",
       "    <tr>\n",
       "      <td>max</td>\n",
       "      <td>9999.00000</td>\n",
       "      <td>68.000000</td>\n",
       "      <td>10.000000</td>\n",
       "      <td>3950.000000</td>\n",
       "      <td>4.000000</td>\n",
       "      <td>1.000000</td>\n",
       "      <td>1.000000</td>\n",
       "      <td>1.000000</td>\n",
       "      <td>1.000000</td>\n",
       "      <td>1.000000</td>\n",
       "      <td>1.000000</td>\n",
       "      <td>100.000000</td>\n",
       "    </tr>\n",
       "  </tbody>\n",
       "</table>\n",
       "</div>"
      ],
      "text/plain": [
       "                Id           age  years_of_experience  lesson_price  \\\n",
       "count  10000.00000  10000.000000         10000.000000  10000.000000   \n",
       "mean    4999.50000     45.878000             1.986800   1699.105000   \n",
       "std     2886.89568      8.043929             1.772213    524.886654   \n",
       "min        0.00000     23.000000             0.000000    200.000000   \n",
       "25%     2499.75000     40.000000             0.000000   1300.000000   \n",
       "50%     4999.50000     46.000000             2.000000   1500.000000   \n",
       "75%     7499.25000     51.000000             3.000000   2150.000000   \n",
       "max     9999.00000     68.000000            10.000000   3950.000000   \n",
       "\n",
       "       qualification       physics     chemistry       biology       english  \\\n",
       "count   10000.000000  10000.000000  10000.000000  10000.000000  10000.000000   \n",
       "mean        1.719500      0.375000      0.132900      0.109600      0.053700   \n",
       "std         0.792264      0.484147      0.339484      0.312406      0.225436   \n",
       "min         1.000000      0.000000      0.000000      0.000000      0.000000   \n",
       "25%         1.000000      0.000000      0.000000      0.000000      0.000000   \n",
       "50%         2.000000      0.000000      0.000000      0.000000      0.000000   \n",
       "75%         2.000000      1.000000      0.000000      0.000000      0.000000   \n",
       "max         4.000000      1.000000      1.000000      1.000000      1.000000   \n",
       "\n",
       "          geography       history  mean_exam_points  \n",
       "count  10000.000000  10000.000000      10000.000000  \n",
       "mean       0.032100      0.019400         63.737300  \n",
       "std        0.176274      0.137933         14.705574  \n",
       "min        0.000000      0.000000         32.000000  \n",
       "25%        0.000000      0.000000         53.000000  \n",
       "50%        0.000000      0.000000         63.000000  \n",
       "75%        0.000000      0.000000         74.000000  \n",
       "max        1.000000      1.000000        100.000000  "
      ]
     },
     "execution_count": 13,
     "metadata": {},
     "output_type": "execute_result"
    }
   ],
   "source": [
    "train_data.describe()\n",
    "#we see that the data is quite clean: there are no unrealistic values in terms of age, years of experience, lesson prices"
   ]
  },
  {
   "cell_type": "code",
   "execution_count": 14,
   "metadata": {},
   "outputs": [
    {
     "data": {
      "image/png": "[encoded data removed]",
      "text/plain": [
       "<Figure size 936x936 with 12 Axes>"
      ]
     },
     "metadata": {
      "needs_background": "light"
     },
     "output_type": "display_data"
    }
   ],
   "source": [
    "train_data.hist(figsize=(13,13))\n",
    "plt.show()\n",
    "#histograms show the following: 1.features which represent subjects, like biology, chemistry etc has boolen values, \n",
    "#it is well noticed from both hists as well as data description\n",
    "#for other features like age, years of experience etc there are no outliers"
   ]
  },
  {
   "cell_type": "code",
   "execution_count": 15,
   "metadata": {},
   "outputs": [
    {
     "data": {
      "text/html": [
       "<div>\n",
       "<style scoped>\n",
       "    .dataframe tbody tr th:only-of-type {\n",
       "        vertical-align: middle;\n",
       "    }\n",
       "\n",
       "    .dataframe tbody tr th {\n",
       "        vertical-align: top;\n",
       "    }\n",
       "\n",
       "    .dataframe thead th {\n",
       "        text-align: right;\n",
       "    }\n",
       "</style>\n",
       "<table border=\"1\" class=\"dataframe\">\n",
       "  <thead>\n",
       "    <tr style=\"text-align: right;\">\n",
       "      <th></th>\n",
       "      <th>Id</th>\n",
       "      <th>age</th>\n",
       "      <th>years_of_experience</th>\n",
       "      <th>lesson_price</th>\n",
       "      <th>qualification</th>\n",
       "      <th>physics</th>\n",
       "      <th>chemistry</th>\n",
       "      <th>biology</th>\n",
       "      <th>english</th>\n",
       "      <th>geography</th>\n",
       "      <th>history</th>\n",
       "      <th>mean_exam_points</th>\n",
       "    </tr>\n",
       "  </thead>\n",
       "  <tbody>\n",
       "    <tr>\n",
       "      <td>Id</td>\n",
       "      <td>1.000000</td>\n",
       "      <td>-0.004596</td>\n",
       "      <td>0.007408</td>\n",
       "      <td>-0.004433</td>\n",
       "      <td>-0.005077</td>\n",
       "      <td>-0.010570</td>\n",
       "      <td>0.002694</td>\n",
       "      <td>-0.000016</td>\n",
       "      <td>0.017723</td>\n",
       "      <td>-0.014869</td>\n",
       "      <td>-0.004482</td>\n",
       "      <td>0.004235</td>\n",
       "    </tr>\n",
       "    <tr>\n",
       "      <td>age</td>\n",
       "      <td>-0.004596</td>\n",
       "      <td>1.000000</td>\n",
       "      <td>0.059947</td>\n",
       "      <td>-0.005462</td>\n",
       "      <td>-0.000976</td>\n",
       "      <td>0.004045</td>\n",
       "      <td>0.001250</td>\n",
       "      <td>-0.005026</td>\n",
       "      <td>-0.012546</td>\n",
       "      <td>0.013130</td>\n",
       "      <td>0.010606</td>\n",
       "      <td>-0.007144</td>\n",
       "    </tr>\n",
       "    <tr>\n",
       "      <td>years_of_experience</td>\n",
       "      <td>0.007408</td>\n",
       "      <td>0.059947</td>\n",
       "      <td>1.000000</td>\n",
       "      <td>0.248311</td>\n",
       "      <td>0.194097</td>\n",
       "      <td>0.008451</td>\n",
       "      <td>0.004246</td>\n",
       "      <td>-0.001722</td>\n",
       "      <td>-0.010241</td>\n",
       "      <td>-0.011129</td>\n",
       "      <td>0.018640</td>\n",
       "      <td>0.184599</td>\n",
       "    </tr>\n",
       "    <tr>\n",
       "      <td>lesson_price</td>\n",
       "      <td>-0.004433</td>\n",
       "      <td>-0.005462</td>\n",
       "      <td>0.248311</td>\n",
       "      <td>1.000000</td>\n",
       "      <td>0.790087</td>\n",
       "      <td>-0.006432</td>\n",
       "      <td>0.005130</td>\n",
       "      <td>-0.004860</td>\n",
       "      <td>-0.012018</td>\n",
       "      <td>0.010525</td>\n",
       "      <td>-0.001142</td>\n",
       "      <td>0.664061</td>\n",
       "    </tr>\n",
       "    <tr>\n",
       "      <td>qualification</td>\n",
       "      <td>-0.005077</td>\n",
       "      <td>-0.000976</td>\n",
       "      <td>0.194097</td>\n",
       "      <td>0.790087</td>\n",
       "      <td>1.000000</td>\n",
       "      <td>0.007529</td>\n",
       "      <td>-0.002683</td>\n",
       "      <td>-0.007504</td>\n",
       "      <td>-0.008047</td>\n",
       "      <td>0.003610</td>\n",
       "      <td>-0.005109</td>\n",
       "      <td>0.698261</td>\n",
       "    </tr>\n",
       "    <tr>\n",
       "      <td>physics</td>\n",
       "      <td>-0.010570</td>\n",
       "      <td>0.004045</td>\n",
       "      <td>0.008451</td>\n",
       "      <td>-0.006432</td>\n",
       "      <td>0.007529</td>\n",
       "      <td>1.000000</td>\n",
       "      <td>0.019852</td>\n",
       "      <td>0.000661</td>\n",
       "      <td>0.004238</td>\n",
       "      <td>0.001904</td>\n",
       "      <td>0.004867</td>\n",
       "      <td>0.169535</td>\n",
       "    </tr>\n",
       "    <tr>\n",
       "      <td>chemistry</td>\n",
       "      <td>0.002694</td>\n",
       "      <td>0.001250</td>\n",
       "      <td>0.004246</td>\n",
       "      <td>0.005130</td>\n",
       "      <td>-0.002683</td>\n",
       "      <td>0.019852</td>\n",
       "      <td>1.000000</td>\n",
       "      <td>0.007866</td>\n",
       "      <td>0.009974</td>\n",
       "      <td>-0.004447</td>\n",
       "      <td>-0.008079</td>\n",
       "      <td>0.010640</td>\n",
       "    </tr>\n",
       "    <tr>\n",
       "      <td>biology</td>\n",
       "      <td>-0.000016</td>\n",
       "      <td>-0.005026</td>\n",
       "      <td>-0.001722</td>\n",
       "      <td>-0.004860</td>\n",
       "      <td>-0.007504</td>\n",
       "      <td>0.000661</td>\n",
       "      <td>0.007866</td>\n",
       "      <td>1.000000</td>\n",
       "      <td>0.010146</td>\n",
       "      <td>-0.013042</td>\n",
       "      <td>0.010995</td>\n",
       "      <td>0.026535</td>\n",
       "    </tr>\n",
       "    <tr>\n",
       "      <td>english</td>\n",
       "      <td>0.017723</td>\n",
       "      <td>-0.012546</td>\n",
       "      <td>-0.010241</td>\n",
       "      <td>-0.012018</td>\n",
       "      <td>-0.008047</td>\n",
       "      <td>0.004238</td>\n",
       "      <td>0.009974</td>\n",
       "      <td>0.010146</td>\n",
       "      <td>1.000000</td>\n",
       "      <td>-0.008148</td>\n",
       "      <td>-0.004560</td>\n",
       "      <td>0.007755</td>\n",
       "    </tr>\n",
       "    <tr>\n",
       "      <td>geography</td>\n",
       "      <td>-0.014869</td>\n",
       "      <td>0.013130</td>\n",
       "      <td>-0.011129</td>\n",
       "      <td>0.010525</td>\n",
       "      <td>0.003610</td>\n",
       "      <td>0.001904</td>\n",
       "      <td>-0.004447</td>\n",
       "      <td>-0.013042</td>\n",
       "      <td>-0.008148</td>\n",
       "      <td>1.000000</td>\n",
       "      <td>-0.005049</td>\n",
       "      <td>0.013323</td>\n",
       "    </tr>\n",
       "    <tr>\n",
       "      <td>history</td>\n",
       "      <td>-0.004482</td>\n",
       "      <td>0.010606</td>\n",
       "      <td>0.018640</td>\n",
       "      <td>-0.001142</td>\n",
       "      <td>-0.005109</td>\n",
       "      <td>0.004867</td>\n",
       "      <td>-0.008079</td>\n",
       "      <td>0.010995</td>\n",
       "      <td>-0.004560</td>\n",
       "      <td>-0.005049</td>\n",
       "      <td>1.000000</td>\n",
       "      <td>0.002858</td>\n",
       "    </tr>\n",
       "    <tr>\n",
       "      <td>mean_exam_points</td>\n",
       "      <td>0.004235</td>\n",
       "      <td>-0.007144</td>\n",
       "      <td>0.184599</td>\n",
       "      <td>0.664061</td>\n",
       "      <td>0.698261</td>\n",
       "      <td>0.169535</td>\n",
       "      <td>0.010640</td>\n",
       "      <td>0.026535</td>\n",
       "      <td>0.007755</td>\n",
       "      <td>0.013323</td>\n",
       "      <td>0.002858</td>\n",
       "      <td>1.000000</td>\n",
       "    </tr>\n",
       "  </tbody>\n",
       "</table>\n",
       "</div>"
      ],
      "text/plain": [
       "                           Id       age  years_of_experience  lesson_price  \\\n",
       "Id                   1.000000 -0.004596             0.007408     -0.004433   \n",
       "age                 -0.004596  1.000000             0.059947     -0.005462   \n",
       "years_of_experience  0.007408  0.059947             1.000000      0.248311   \n",
       "lesson_price        -0.004433 -0.005462             0.248311      1.000000   \n",
       "qualification       -0.005077 -0.000976             0.194097      0.790087   \n",
       "physics             -0.010570  0.004045             0.008451     -0.006432   \n",
       "chemistry            0.002694  0.001250             0.004246      0.005130   \n",
       "biology             -0.000016 -0.005026            -0.001722     -0.004860   \n",
       "english              0.017723 -0.012546            -0.010241     -0.012018   \n",
       "geography           -0.014869  0.013130            -0.011129      0.010525   \n",
       "history             -0.004482  0.010606             0.018640     -0.001142   \n",
       "mean_exam_points     0.004235 -0.007144             0.184599      0.664061   \n",
       "\n",
       "                     qualification   physics  chemistry   biology   english  \\\n",
       "Id                       -0.005077 -0.010570   0.002694 -0.000016  0.017723   \n",
       "age                      -0.000976  0.004045   0.001250 -0.005026 -0.012546   \n",
       "years_of_experience       0.194097  0.008451   0.004246 -0.001722 -0.010241   \n",
       "lesson_price              0.790087 -0.006432   0.005130 -0.004860 -0.012018   \n",
       "qualification             1.000000  0.007529  -0.002683 -0.007504 -0.008047   \n",
       "physics                   0.007529  1.000000   0.019852  0.000661  0.004238   \n",
       "chemistry                -0.002683  0.019852   1.000000  0.007866  0.009974   \n",
       "biology                  -0.007504  0.000661   0.007866  1.000000  0.010146   \n",
       "english                  -0.008047  0.004238   0.009974  0.010146  1.000000   \n",
       "geography                 0.003610  0.001904  -0.004447 -0.013042 -0.008148   \n",
       "history                  -0.005109  0.004867  -0.008079  0.010995 -0.004560   \n",
       "mean_exam_points          0.698261  0.169535   0.010640  0.026535  0.007755   \n",
       "\n",
       "                     geography   history  mean_exam_points  \n",
       "Id                   -0.014869 -0.004482          0.004235  \n",
       "age                   0.013130  0.010606         -0.007144  \n",
       "years_of_experience  -0.011129  0.018640          0.184599  \n",
       "lesson_price          0.010525 -0.001142          0.664061  \n",
       "qualification         0.003610 -0.005109          0.698261  \n",
       "physics               0.001904  0.004867          0.169535  \n",
       "chemistry            -0.004447 -0.008079          0.010640  \n",
       "biology              -0.013042  0.010995          0.026535  \n",
       "english              -0.008148 -0.004560          0.007755  \n",
       "geography             1.000000 -0.005049          0.013323  \n",
       "history              -0.005049  1.000000          0.002858  \n",
       "mean_exam_points      0.013323  0.002858          1.000000  "
      ]
     },
     "execution_count": 15,
     "metadata": {},
     "output_type": "execute_result"
    }
   ],
   "source": [
    "train_data.corr()\n",
    "#we see here that, there are indeed features, that have nothing to do with\n",
    "#mean_exam_points for math, at least there is no linear link: all of the subjects except of physics, which we may leave, though the correlation is weak. We may also drop age for the same reason"
   ]
  },
  {
   "cell_type": "code",
   "execution_count": 16,
   "metadata": {},
   "outputs": [],
   "source": [
    "#Let's separate labels into other dataset\n",
    "train_data_labels=train_data[['Id','mean_exam_points']]"
   ]
  },
  {
   "cell_type": "code",
   "execution_count": 17,
   "metadata": {},
   "outputs": [],
   "source": [
    "#Let's drop features in train dataset which due to the reasons mentioned above will not иу used in our models\n",
    "train_data_clear_features=train_data[['Id','years_of_experience','lesson_price','qualification','physics']]"
   ]
  },
  {
   "cell_type": "code",
   "execution_count": 18,
   "metadata": {},
   "outputs": [],
   "source": [
    "#Let's drop features in test dataset which due the reasons mentioned above will not be used in our models\n",
    "test_data_clear_features=test_data[['Id','years_of_experience','lesson_price','qualification','physics']]"
   ]
  },
  {
   "cell_type": "markdown",
   "metadata": {},
   "source": [
    "<h4>2. Model selection</h4>"
   ]
  },
  {
   "cell_type": "markdown",
   "metadata": {},
   "source": [
    "<h4>1. Gradient boosting</h4>\n"
   ]
  },
  {
   "cell_type": "code",
   "execution_count": 19,
   "metadata": {},
   "outputs": [],
   "source": [
    "X_train,X_validation,y_train,y_validation=train_test_split(train_data_clear_features,train_data_labels,test_size=0.25,random_state=42)"
   ]
  },
  {
   "cell_type": "code",
   "execution_count": 20,
   "metadata": {},
   "outputs": [
    {
     "data": {
      "text/plain": [
       "((7500, 5), (2500, 5), (7500, 2), (2500, 2))"
      ]
     },
     "execution_count": 20,
     "metadata": {},
     "output_type": "execute_result"
    }
   ],
   "source": [
    "X_train.shape,X_validation.shape,y_train.shape,y_validation.shape"
   ]
  },
  {
   "cell_type": "code",
   "execution_count": 65,
   "metadata": {},
   "outputs": [],
   "source": [
    "#let's create class node\n",
    "class Node_for_gb():\n",
    "    def __init__(self,true_branch,false_branch,index,t_value):\n",
    "        self.true_branch=true_branch\n",
    "        self.false_branch=false_branch\n",
    "        self.index=index\n",
    "        self.t_value=t_value"
   ]
  },
  {
   "cell_type": "code",
   "execution_count": 66,
   "metadata": {},
   "outputs": [],
   "source": [
    "#Let's create class leaf\n",
    "class Leaf_for_gb():\n",
    "    def __init__(self,dataset,labels):\n",
    "        self.dataset=dataset\n",
    "        self.labels=labels\n",
    "        self.prediction=self.predict()\n",
    "        \n",
    "    def predict(self):\n",
    "        predictions=np.mean(self.labels)\n",
    "        return predictions"
   ]
  },
  {
   "cell_type": "code",
   "execution_count": 67,
   "metadata": {},
   "outputs": [],
   "source": [
    "#Using gini createria\n",
    "def gini_for_gb(labels):\n",
    "    labels_average=np.mean(labels)\n",
    "    impurity=np.mean(((labels-labels_average)**2))\n",
    "    \n",
    "    return impurity"
   ]
  },
  {
   "cell_type": "code",
   "execution_count": 68,
   "metadata": {},
   "outputs": [],
   "source": [
    "#Counting information gain\n",
    "def qty_gain_for_gb(root,true_branch_labels,false_branch_labels):\n",
    "    p=true_branch_labels.shape[0]/(true_branch_labels.shape[0]+false_branch_labels.shape[0])\n",
    "    return root - p * gini_for_gb(true_branch_labels) - (1 - p) * gini_for_gb(false_branch_labels)"
   ]
  },
  {
   "cell_type": "code",
   "execution_count": 69,
   "metadata": {},
   "outputs": [],
   "source": [
    "#Spliting data and labels into two branches\n",
    "def split_for_gb(dataset,labels,index,t_value):\n",
    "\n",
    "    true_branch_index=np.where(dataset[:,index]<=t_value)\n",
    "    false_branch_index=np.where(dataset[:,index]>t_value)\n",
    "    \n",
    "    true_branch_dataset=dataset[true_branch_index]\n",
    "    false_branch_dataset=dataset[false_branch_index]\n",
    "    \n",
    "    true_branch_labels=labels[true_branch_index]\n",
    "    false_branch_labels=labels[false_branch_index]\n",
    "    \n",
    "    return true_branch_dataset,false_branch_dataset,true_branch_labels,false_branch_labels"
   ]
  },
  {
   "cell_type": "code",
   "execution_count": 70,
   "metadata": {},
   "outputs": [],
   "source": [
    "#Function, which returns the best split in term of information gain\n",
    "def find_best_split_for_gb(dataset,labels):\n",
    "    best_index=None\n",
    "    best_t_value=None\n",
    "    min_leaf_objects=5\n",
    "    root=gini_for_gb(labels)\n",
    "\n",
    "    \n",
    "    best_gain=0\n",
    "    \n",
    "    for index in range(dataset.shape[1]):\n",
    "        t_values=np.unique(dataset[:,index])\n",
    "        \n",
    "        for t_value in t_values:\n",
    "            true_branch_dataset,false_branch_dataset,true_branch_labels,false_branch_labels=split_for_gb(dataset,labels,index,t_value)\n",
    "            \n",
    "            if len(true_branch_labels)<min_leaf_objects or len(false_branch_labels)<min_leaf_objects:\n",
    "                continue\n",
    "            \n",
    "            current_gain=qty_gain_for_gb(root,true_branch_labels,false_branch_labels)\n",
    "            \n",
    "            \n",
    "            if current_gain>best_gain:\n",
    "                best_gain,best_index,best_t_value=current_gain,index,t_value\n",
    "    \n",
    "    return best_gain,best_index,best_t_value"
   ]
  },
  {
   "cell_type": "code",
   "execution_count": 71,
   "metadata": {},
   "outputs": [],
   "source": [
    "#Building the tree\n",
    "def build_tree_for_gb(dataset,labels,max_depth=False):\n",
    "    \n",
    "    \n",
    "    best_qty,best_index,best_t_value=find_best_split_for_gb(dataset,labels)\n",
    "    \n",
    "    if best_qty==0 or max_depth==0: \n",
    "        return Leaf_for_gb(dataset,labels)\n",
    "\n",
    "\n",
    "\n",
    "    true_branch_dataset,false_branch_dataset,true_branch_labels,false_branch_labels=split_for_gb(dataset,labels,best_index,best_t_value)\n",
    "\n",
    "    true_branch=build_tree_for_gb(true_branch_dataset,true_branch_labels,max_depth-1)\n",
    "    false_branch=build_tree_for_gb(false_branch_dataset,false_branch_labels,max_depth-1)\n",
    "\n",
    "    return Node_for_gb(true_branch,false_branch,best_index,best_t_value)"
   ]
  },
  {
   "cell_type": "code",
   "execution_count": 72,
   "metadata": {},
   "outputs": [],
   "source": [
    "def predict_object_for_gb(obj,node):\n",
    "    \n",
    "    if isinstance(node,Leaf_for_gb):\n",
    "        return node.prediction\n",
    "    \n",
    "    if obj[node.index]<=node.t_value:\n",
    "        return predict_object_for_gb(obj,node.true_branch)\n",
    "    else:\n",
    "        return predict_object_for_gb(obj,node.false_branch)"
   ]
  },
  {
   "cell_type": "code",
   "execution_count": 73,
   "metadata": {},
   "outputs": [],
   "source": [
    "#Function for creating predictions for each tree\n",
    "def predict_for_gb(dataset,tree):\n",
    "    predictions=[]\n",
    "    for numerical in range(dataset.shape[0]):\n",
    "        result=predict_object_for_gb(dataset[numerical],tree)\n",
    "        predictions.append(result)\n",
    "    return predictions"
   ]
  },
  {
   "cell_type": "code",
   "execution_count": 30,
   "metadata": {},
   "outputs": [],
   "source": [
    "#We will use MSE for internal purpose to perceive the way the error behaves\n",
    "def MSE_for_gb(target_labels,predicted_labels):\n",
    "    return np.sum((predicted_labels-target_labels)**2)/len(target_labels)"
   ]
  },
  {
   "cell_type": "code",
   "execution_count": 31,
   "metadata": {},
   "outputs": [],
   "source": [
    "#Model validation metric, which is stated by the task\n",
    "def coefficient_of_determination(y,y_predicted):\n",
    "    ss_tot=np.sum((y-y.mean())**2)\n",
    "    ss_res=np.sum((y-y_predicted)**2)\n",
    "    return 1-(ss_res/ss_tot)"
   ]
  },
  {
   "cell_type": "code",
   "execution_count": 32,
   "metadata": {},
   "outputs": [],
   "source": [
    "#Calculating residuals\n",
    "def gb_residual(target_labels,predicted_labels):\n",
    "    return -(predicted_labels-target_labels)"
   ]
  },
  {
   "cell_type": "code",
   "execution_count": 33,
   "metadata": {},
   "outputs": [],
   "source": [
    "#Calculating predictions of the whole model\n",
    "def gb_predict(dataset,tree_list,eta):\n",
    "    predictions=np.zeros([dataset.shape[0],1])\n",
    "\n",
    "    for tree in tree_list:\n",
    "        predictions=predictions+eta*np.reshape(np.array(predict_for_gb(dataset,tree)),(-1,1))\n",
    "        \n",
    "    return predictions"
   ]
  },
  {
   "cell_type": "code",
   "execution_count": 34,
   "metadata": {},
   "outputs": [],
   "source": [
    "#The function, which launches functions responsible for training\n",
    "def gb_fit(number_of_trees,max_depth,X_train,y_train,eta):\n",
    "    tree_list=[]\n",
    "    MSE_train=[]\n",
    "    MSE_train_dict={}\n",
    "\n",
    "    \n",
    "\n",
    "    tree_dict={}\n",
    "    \n",
    "    \n",
    "    for i in range(number_of_trees):\n",
    "             \n",
    "        predictions_train=gb_predict(X_train,tree_list,eta)\n",
    "        error_train=MSE_for_gb(y_train,predictions_train)\n",
    "        MSE_train.append(error_train)\n",
    "        residual=gb_residual(y_train,predictions_train)\n",
    "        \n",
    "        tree=build_tree_for_gb(X_train,residual,max_depth=max_depth)\n",
    "\n",
    "        \n",
    "        tree_list.append(tree)\n",
    "\n",
    "\n",
    "        \n",
    "    \n",
    "    return tree_list"
   ]
  },
  {
   "cell_type": "code",
   "execution_count": 35,
   "metadata": {},
   "outputs": [],
   "source": [
    "#Function, which receives various parameters for the function training\n",
    "def parameters_selection(X_train,y_train,eta,number_of_trees_list,max_depth_list):\n",
    "    result_list=[]\n",
    "    for t in number_of_trees_list:\n",
    "        for d in max_depth_list:\n",
    "            result={}\n",
    "            result['trees']=t\n",
    "            result['depth']=d\n",
    "            result['values']=gb_fit(t,d,X_train,y_train,eta)\n",
    "            result_list.append(result)\n",
    "    \n",
    "    return result_list"
   ]
  },
  {
   "cell_type": "code",
   "execution_count": 36,
   "metadata": {},
   "outputs": [],
   "source": [
    "#Let's teach the model\n",
    "gb_trained=parameters_selection(X_train.loc[:,X_train.columns!='Id'].values,y_train.loc[:,y_train.columns!='Id'].values,0.2,[50],[10])"
   ]
  },
  {
   "cell_type": "code",
   "execution_count": 37,
   "metadata": {},
   "outputs": [],
   "source": [
    "#Predictions on the training set\n",
    "gb_predictions_train=gb_predict(X_train.loc[:,X_train.columns!='Id'].values,gb_trained[0]['values'],0.2)"
   ]
  },
  {
   "cell_type": "code",
   "execution_count": 38,
   "metadata": {},
   "outputs": [
    {
     "data": {
      "text/plain": [
       "0.7131597768638143"
      ]
     },
     "execution_count": 38,
     "metadata": {},
     "output_type": "execute_result"
    }
   ],
   "source": [
    "#Coeff of determination on the training set\n",
    "cod_train=coefficient_of_determination(y_train.loc[:,y_train.columns!='Id'].values,gb_predictions_train)\n",
    "cod_train"
   ]
  },
  {
   "cell_type": "code",
   "execution_count": 39,
   "metadata": {},
   "outputs": [],
   "source": [
    "#Predictions on the validation set\n",
    "gb_predictions_validation=gb_predict(X_validation.loc[:,X_train.columns!='Id'].values,gb_trained[0]['values'],0.2)"
   ]
  },
  {
   "cell_type": "code",
   "execution_count": 40,
   "metadata": {},
   "outputs": [
    {
     "data": {
      "text/plain": [
       "0.6226083959421759"
      ]
     },
     "execution_count": 40,
     "metadata": {},
     "output_type": "execute_result"
    }
   ],
   "source": [
    "#Coeff of determination on the validation set\n",
    "cod_validation=coefficient_of_determination(y_validation.loc[:,y_validation.columns!='Id'].values,gb_predictions_validation)\n",
    "cod_validation"
   ]
  },
  {
   "cell_type": "code",
   "execution_count": 41,
   "metadata": {},
   "outputs": [],
   "source": [
    "#Predictions on the test set\n",
    "gb_predictions_test=gb_predict(test_data_clear_features.loc[:,test_data_clear_features.columns!='Id'].values,gb_trained[0]['values'],0.2)"
   ]
  },
  {
   "cell_type": "code",
   "execution_count": 42,
   "metadata": {},
   "outputs": [],
   "source": [
    "gb_predictions_test_rounded=np.around(gb_predictions_test,0)"
   ]
  },
  {
   "cell_type": "code",
   "execution_count": 48,
   "metadata": {},
   "outputs": [],
   "source": [
    "df_test=pd.DataFrame(gb_predictions_test_rounded,columns=['mean_exam_points'])"
   ]
  },
  {
   "cell_type": "code",
   "execution_count": 50,
   "metadata": {},
   "outputs": [],
   "source": [
    "results=pd.concat([test_data_clear_features,df_test],axis=1)[['Id','mean_exam_points']]"
   ]
  },
  {
   "cell_type": "code",
   "execution_count": 51,
   "metadata": {},
   "outputs": [
    {
     "data": {
      "text/html": [
       "<div>\n",
       "<style scoped>\n",
       "    .dataframe tbody tr th:only-of-type {\n",
       "        vertical-align: middle;\n",
       "    }\n",
       "\n",
       "    .dataframe tbody tr th {\n",
       "        vertical-align: top;\n",
       "    }\n",
       "\n",
       "    .dataframe thead th {\n",
       "        text-align: right;\n",
       "    }\n",
       "</style>\n",
       "<table border=\"1\" class=\"dataframe\">\n",
       "  <thead>\n",
       "    <tr style=\"text-align: right;\">\n",
       "      <th></th>\n",
       "      <th>Id</th>\n",
       "      <th>mean_exam_points</th>\n",
       "    </tr>\n",
       "  </thead>\n",
       "  <tbody>\n",
       "    <tr>\n",
       "      <td>0</td>\n",
       "      <td>10000</td>\n",
       "      <td>54.0</td>\n",
       "    </tr>\n",
       "    <tr>\n",
       "      <td>1</td>\n",
       "      <td>10001</td>\n",
       "      <td>60.0</td>\n",
       "    </tr>\n",
       "    <tr>\n",
       "      <td>2</td>\n",
       "      <td>10002</td>\n",
       "      <td>48.0</td>\n",
       "    </tr>\n",
       "    <tr>\n",
       "      <td>3</td>\n",
       "      <td>10003</td>\n",
       "      <td>85.0</td>\n",
       "    </tr>\n",
       "    <tr>\n",
       "      <td>4</td>\n",
       "      <td>10004</td>\n",
       "      <td>91.0</td>\n",
       "    </tr>\n",
       "    <tr>\n",
       "      <td>...</td>\n",
       "      <td>...</td>\n",
       "      <td>...</td>\n",
       "    </tr>\n",
       "    <tr>\n",
       "      <td>9995</td>\n",
       "      <td>19995</td>\n",
       "      <td>41.0</td>\n",
       "    </tr>\n",
       "    <tr>\n",
       "      <td>9996</td>\n",
       "      <td>19996</td>\n",
       "      <td>77.0</td>\n",
       "    </tr>\n",
       "    <tr>\n",
       "      <td>9997</td>\n",
       "      <td>19997</td>\n",
       "      <td>49.0</td>\n",
       "    </tr>\n",
       "    <tr>\n",
       "      <td>9998</td>\n",
       "      <td>19998</td>\n",
       "      <td>66.0</td>\n",
       "    </tr>\n",
       "    <tr>\n",
       "      <td>9999</td>\n",
       "      <td>19999</td>\n",
       "      <td>66.0</td>\n",
       "    </tr>\n",
       "  </tbody>\n",
       "</table>\n",
       "<p>10000 rows × 2 columns</p>\n",
       "</div>"
      ],
      "text/plain": [
       "         Id  mean_exam_points\n",
       "0     10000              54.0\n",
       "1     10001              60.0\n",
       "2     10002              48.0\n",
       "3     10003              85.0\n",
       "4     10004              91.0\n",
       "...     ...               ...\n",
       "9995  19995              41.0\n",
       "9996  19996              77.0\n",
       "9997  19997              49.0\n",
       "9998  19998              66.0\n",
       "9999  19999              66.0\n",
       "\n",
       "[10000 rows x 2 columns]"
      ]
     },
     "execution_count": 51,
     "metadata": {},
     "output_type": "execute_result"
    }
   ],
   "source": [
    "results"
   ]
  },
  {
   "cell_type": "code",
   "execution_count": 52,
   "metadata": {},
   "outputs": [],
   "source": [
    "#This is the final result for gb_model:\n",
    "results.to_csv('results_v1.csv',index=False)"
   ]
  },
  {
   "cell_type": "markdown",
   "metadata": {},
   "source": [
    "_____________________________________________________"
   ]
  },
  {
   "cell_type": "markdown",
   "metadata": {},
   "source": [
    "<h4>2. Random Forest</h4>"
   ]
  },
  {
   "cell_type": "markdown",
   "metadata": {},
   "source": [
    "<p>Despite the fact that the gradient boosting shows better results on train, random forest performs better on validation, which means that it can better generalise. \n",
    "Due to the best results on validation data, random forest predictions on test were submitted</p>"
   ]
  },
  {
   "cell_type": "code",
   "execution_count": 19,
   "metadata": {},
   "outputs": [],
   "source": [
    "#Since it is unknown which model will be launched first, as well as to mitigate risks of dependencies, Decision Tree creation functions are duplicated"
   ]
  },
  {
   "cell_type": "code",
   "execution_count": 20,
   "metadata": {},
   "outputs": [],
   "source": [
    "X_train,X_validation,y_train,y_validation=train_test_split(train_data_clear_features,train_data_labels,test_size=0.25,random_state=42)"
   ]
  },
  {
   "cell_type": "code",
   "execution_count": 21,
   "metadata": {},
   "outputs": [],
   "source": [
    "#Since the actions below in terms of the tree creation are similar to the gradient boosting model,\n",
    "#they are not commented"
   ]
  },
  {
   "cell_type": "code",
   "execution_count": 22,
   "metadata": {},
   "outputs": [],
   "source": [
    "import math"
   ]
  },
  {
   "cell_type": "code",
   "execution_count": 23,
   "metadata": {},
   "outputs": [],
   "source": [
    "class Node():\n",
    "    def __init__(self,true_branch,false_branch,index,t_value):\n",
    "        self.true_branch=true_branch\n",
    "        self.false_branch=false_branch\n",
    "        self.index=index\n",
    "        self.t_value=t_value"
   ]
  },
  {
   "cell_type": "code",
   "execution_count": 24,
   "metadata": {},
   "outputs": [],
   "source": [
    "class Leaf():\n",
    "    def __init__(self,dataset,labels):\n",
    "        self.dataset=dataset\n",
    "        self.labels=labels\n",
    "        self.prediction=self.predict()\n",
    "        \n",
    "    def predict(self):\n",
    "        predictions=np.mean(self.labels)\n",
    "        return predictions"
   ]
  },
  {
   "cell_type": "code",
   "execution_count": 25,
   "metadata": {},
   "outputs": [],
   "source": [
    "def gini(labels):\n",
    "    labels_average=np.mean(labels)\n",
    "    impurity=np.mean(((labels-labels_average)**2))\n",
    "    \n",
    "    return impurity"
   ]
  },
  {
   "cell_type": "code",
   "execution_count": 26,
   "metadata": {},
   "outputs": [],
   "source": [
    "def qty_gain(root,true_branch_labels,false_branch_labels):\n",
    "    p=true_branch_labels.shape[0]/(true_branch_labels.shape[0]+false_branch_labels.shape[0])\n",
    "    return root - p * gini(true_branch_labels) - (1 - p) * gini(false_branch_labels)"
   ]
  },
  {
   "cell_type": "code",
   "execution_count": 27,
   "metadata": {},
   "outputs": [],
   "source": [
    "def split(dataset,labels,index,t_value):\n",
    "\n",
    "    true_branch_index=np.where(dataset[:,index]<=t_value)\n",
    "    false_branch_index=np.where(dataset[:,index]>t_value)\n",
    "    \n",
    "    true_branch_dataset=dataset[true_branch_index]\n",
    "    false_branch_dataset=dataset[false_branch_index]\n",
    "    \n",
    "    true_branch_labels=labels[true_branch_index]\n",
    "    false_branch_labels=labels[false_branch_index]\n",
    "    \n",
    "    return true_branch_dataset,false_branch_dataset,true_branch_labels,false_branch_labels"
   ]
  },
  {
   "cell_type": "code",
   "execution_count": 28,
   "metadata": {},
   "outputs": [],
   "source": [
    "#In comparison to the gradient boosting best split function, the current one uses the random subset of features on each node, to grow random forest\n",
    "def find_best_split(dataset,labels):\n",
    "    best_index=None\n",
    "    best_t_value=None\n",
    "    min_leaf_objects=5\n",
    "    root=gini(labels)\n",
    "\n",
    "    \n",
    "    best_gain=0\n",
    "    \n",
    "    random_features=np.random.permutation(dataset.shape[1])[:math.ceil(dataset.shape[1]/3)]\n",
    "    for index in random_features:\n",
    "        t_values=np.unique(dataset[:,index])\n",
    "        \n",
    "        for t_value in t_values:\n",
    "            true_branch_dataset,false_branch_dataset,true_branch_labels,false_branch_labels=split(dataset,labels,index,t_value)\n",
    "            \n",
    "            if len(true_branch_labels)<min_leaf_objects or len(false_branch_labels)<min_leaf_objects:\n",
    "                continue\n",
    "            \n",
    "            current_gain=qty_gain(root,true_branch_labels,false_branch_labels)\n",
    "            \n",
    "            \n",
    "            if current_gain>best_gain:\n",
    "                best_gain,best_index,best_t_value=current_gain,index,t_value\n",
    "    \n",
    "    return best_gain,best_index,best_t_value"
   ]
  },
  {
   "cell_type": "code",
   "execution_count": 29,
   "metadata": {},
   "outputs": [],
   "source": [
    "def build_tree(dataset,labels,max_depth):\n",
    "    \n",
    "    \n",
    "    best_qty,best_index,best_t_value=find_best_split(dataset,labels)\n",
    "    \n",
    "    if best_qty==0 or max_depth==0: \n",
    "        return Leaf(dataset,labels)\n",
    "\n",
    "\n",
    "\n",
    "    true_branch_dataset,false_branch_dataset,true_branch_labels,false_branch_labels=split(dataset,labels,best_index,best_t_value)\n",
    "\n",
    "    true_branch=build_tree(true_branch_dataset,true_branch_labels,max_depth-1)\n",
    "    false_branch=build_tree(false_branch_dataset,false_branch_labels,max_depth-1)\n",
    "\n",
    "    return Node(true_branch,false_branch,best_index,best_t_value)"
   ]
  },
  {
   "cell_type": "code",
   "execution_count": 30,
   "metadata": {},
   "outputs": [],
   "source": [
    "def predict_object(obj,node):\n",
    "    \n",
    "    if isinstance(node,Leaf):\n",
    "        return node.prediction\n",
    "    \n",
    "    if obj[node.index]<=node.t_value:\n",
    "        return predict_object(obj,node.true_branch)\n",
    "    else:\n",
    "        return predict_object(obj,node.false_branch)"
   ]
  },
  {
   "cell_type": "code",
   "execution_count": 31,
   "metadata": {},
   "outputs": [],
   "source": [
    "def predict_updated(dataset,tree):\n",
    "    predictions=[]\n",
    "    for numerical in range(dataset.shape[0]):\n",
    "        result=predict_object(dataset[numerical],tree)\n",
    "        predictions.append(result)\n",
    "    return predictions"
   ]
  },
  {
   "cell_type": "code",
   "execution_count": 32,
   "metadata": {},
   "outputs": [],
   "source": [
    "def coefficient_of_determination(y,y_predicted):\n",
    "    ss_tot=np.sum((y-y.mean())**2)\n",
    "    ss_res=np.sum((y-y_predicted)**2)\n",
    "    return 1-(ss_res/ss_tot)"
   ]
  },
  {
   "cell_type": "code",
   "execution_count": 33,
   "metadata": {},
   "outputs": [],
   "source": [
    "#This function creates bootstrap datasets for each tree\n",
    "def create_bootstrap_samples(dataset,labels,number_of_trees):\n",
    "    list_of_data_bootstraps=[]\n",
    "    list_of_labels_bootstraps=[]\n",
    "    \n",
    "    for t in range(number_of_trees):\n",
    "        indexes=np.random.randint(0,dataset.shape[0],dataset.shape[0])\n",
    "        \n",
    "        new_array_dataset=[]\n",
    "        new_array_labels=[]\n",
    "        for index in indexes:\n",
    "            new_array_dataset.append(dataset[index])\n",
    "            new_array_labels.append(labels[index])\n",
    "        new_array_dataset=np.array(new_array_dataset)\n",
    "        new_array_labels=np.array(new_array_labels)\n",
    "        \n",
    "        list_of_data_bootstraps.append(new_array_dataset)\n",
    "        list_of_labels_bootstraps.append(new_array_labels)\n",
    "        \n",
    "    return list_of_data_bootstraps,list_of_labels_bootstraps"
   ]
  },
  {
   "cell_type": "code",
   "execution_count": 34,
   "metadata": {},
   "outputs": [],
   "source": [
    "#Function which launches the procedure of random forest creation\n",
    "def build_random_forest(dataset,labels,number_of_trees,max_depth):\n",
    "    list_of_data_bootstraps,list_of_labels_bootstraps=create_bootstrap_samples(dataset,labels,number_of_trees)\n",
    "    \n",
    "    \n",
    "    forest=[]\n",
    "    \n",
    "    \n",
    "    for t in range(number_of_trees):\n",
    "        tree=build_tree(list_of_data_bootstraps[t],list_of_labels_bootstraps[t],max_depth=max_depth)\n",
    "        forest.append(tree)\n",
    "    \n",
    "\n",
    "    return forest"
   ]
  },
  {
   "cell_type": "code",
   "execution_count": 35,
   "metadata": {},
   "outputs": [],
   "source": [
    "#Function, which returns the result of random forest predictions\n",
    "def random_forest_prediction(dataset,forest):\n",
    "    \n",
    "    predictions_list=[]\n",
    "    \n",
    "    for tree in forest:\n",
    "        tree_predictions=predict_updated(dataset,tree)\n",
    "        tree_predictions=np.reshape(tree_predictions,(-1,1))\n",
    "        predictions_list.append(tree_predictions)\n",
    "        \n",
    "    return np.mean(predictions_list,axis=0)"
   ]
  },
  {
   "cell_type": "code",
   "execution_count": 36,
   "metadata": {},
   "outputs": [],
   "source": [
    "#Let's train the model\n",
    "forest_trained=build_random_forest(X_train.loc[:,X_train.columns!='Id'].values,y_train.loc[:,y_train.columns!='Id'].values,50,10)"
   ]
  },
  {
   "cell_type": "code",
   "execution_count": 37,
   "metadata": {},
   "outputs": [],
   "source": [
    "#Predictions on the training set\n",
    "forest_predictions_train=random_forest_prediction(X_train.loc[:,X_train.columns!='Id'].values,forest_trained)"
   ]
  },
  {
   "cell_type": "code",
   "execution_count": 38,
   "metadata": {},
   "outputs": [
    {
     "data": {
      "text/plain": [
       "0.6801076450024242"
      ]
     },
     "execution_count": 38,
     "metadata": {},
     "output_type": "execute_result"
    }
   ],
   "source": [
    "#Coeff of determination on the training set\n",
    "cod_train_forest=coefficient_of_determination(y_train.loc[:,y_train.columns!='Id'].values,forest_predictions_train)\n",
    "cod_train_forest"
   ]
  },
  {
   "cell_type": "code",
   "execution_count": 39,
   "metadata": {},
   "outputs": [],
   "source": [
    "#Predictions on the validation set\n",
    "forest_predictions_validation=random_forest_prediction(X_validation.loc[:,X_validation.columns!='Id'].values,forest_trained)"
   ]
  },
  {
   "cell_type": "code",
   "execution_count": 41,
   "metadata": {},
   "outputs": [
    {
     "data": {
      "text/plain": [
       "0.641009159234249"
      ]
     },
     "execution_count": 41,
     "metadata": {},
     "output_type": "execute_result"
    }
   ],
   "source": [
    "#Coeff of determination on the validation set\n",
    "cod_validation_forest=coefficient_of_determination(y_validation.loc[:,y_validation.columns!='Id'].values,forest_predictions_validation)\n",
    "cod_validation_forest"
   ]
  },
  {
   "cell_type": "code",
   "execution_count": 42,
   "metadata": {},
   "outputs": [],
   "source": [
    "#Predictions on the test set\n",
    "forest_predictions_test=random_forest_prediction(test_data_clear_features.loc[:,test_data_clear_features.columns!='Id'].values,forest_trained)"
   ]
  },
  {
   "cell_type": "code",
   "execution_count": 44,
   "metadata": {},
   "outputs": [],
   "source": [
    "forest_predictions_test_rounded=np.around(forest_predictions_test,0)"
   ]
  },
  {
   "cell_type": "code",
   "execution_count": 45,
   "metadata": {},
   "outputs": [],
   "source": [
    "df_forest_test=pd.DataFrame(forest_predictions_test_rounded,columns=['mean_exam_points'])"
   ]
  },
  {
   "cell_type": "code",
   "execution_count": 46,
   "metadata": {},
   "outputs": [],
   "source": [
    "results_forest=pd.concat([test_data_clear_features,df_forest_test],axis=1)[['Id','mean_exam_points']]"
   ]
  },
  {
   "cell_type": "code",
   "execution_count": 48,
   "metadata": {},
   "outputs": [],
   "source": [
    "#This is the final result:\n",
    "results_forest.to_csv('results_forest_v2.csv',index=False)"
   ]
  }
 ],
 "metadata": {
  "kernelspec": {
   "display_name": "Python 3",
   "language": "python",
   "name": "python3"
  },
  "language_info": {
   "codemirror_mode": {
    "name": "ipython",
    "version": 3
   },
   "file_extension": ".py",
   "mimetype": "text/x-python",
   "name": "python",
   "nbconvert_exporter": "python",
   "pygments_lexer": "ipython3",
   "version": "3.7.4"
  }
 },
 "nbformat": 4,
 "nbformat_minor": 2
}
